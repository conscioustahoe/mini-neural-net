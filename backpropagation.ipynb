{
 "cells": [
  {
   "cell_type": "markdown",
   "id": "8880c3a2-0f7e-4bd9-8a0d-80a58e8908a2",
   "metadata": {},
   "source": [
    "## Import Dependencies"
   ]
  },
  {
   "cell_type": "code",
   "execution_count": 141,
   "id": "11a6b6a8-319a-4624-bc91-f085431901ab",
   "metadata": {
    "execution": {
     "iopub.execute_input": "2023-04-09T13:41:54.790786Z",
     "iopub.status.busy": "2023-04-09T13:41:54.790073Z",
     "iopub.status.idle": "2023-04-09T13:41:54.796507Z",
     "shell.execute_reply": "2023-04-09T13:41:54.795748Z",
     "shell.execute_reply.started": "2023-04-09T13:41:54.790751Z"
    },
    "tags": []
   },
   "outputs": [],
   "source": [
    "import math\n",
    "import numpy as np\n",
    "import matplotlib.pyplot as plt\n",
    "%matplotlib inline"
   ]
  },
  {
   "cell_type": "markdown",
   "id": "3a743c6e-b115-498c-8747-6b53378d1dda",
   "metadata": {},
   "source": [
    "## A Simple Function"
   ]
  },
  {
   "cell_type": "code",
   "execution_count": 142,
   "id": "5f8966ca-19c5-4804-bf11-4134640e1834",
   "metadata": {
    "execution": {
     "iopub.execute_input": "2023-04-09T13:41:56.672700Z",
     "iopub.status.busy": "2023-04-09T13:41:56.671740Z",
     "iopub.status.idle": "2023-04-09T13:41:56.676922Z",
     "shell.execute_reply": "2023-04-09T13:41:56.676169Z",
     "shell.execute_reply.started": "2023-04-09T13:41:56.672669Z"
    }
   },
   "outputs": [],
   "source": [
    "def f(x):\n",
    "    return 3*x**2 - 4*x + 5"
   ]
  },
  {
   "cell_type": "code",
   "execution_count": 143,
   "id": "e13c1126-6dc5-40ef-9bd9-7c63cdca3bf5",
   "metadata": {
    "execution": {
     "iopub.execute_input": "2023-04-09T13:41:58.655268Z",
     "iopub.status.busy": "2023-04-09T13:41:58.654525Z",
     "iopub.status.idle": "2023-04-09T13:41:58.660568Z",
     "shell.execute_reply": "2023-04-09T13:41:58.659723Z",
     "shell.execute_reply.started": "2023-04-09T13:41:58.655237Z"
    }
   },
   "outputs": [
    {
     "data": {
      "text/plain": [
       "20.0"
      ]
     },
     "execution_count": 143,
     "metadata": {},
     "output_type": "execute_result"
    }
   ],
   "source": [
    "f(3.0)"
   ]
  },
  {
   "cell_type": "markdown",
   "id": "47fe284a-84c6-447a-bcd5-bc78075d8152",
   "metadata": {
    "execution": {
     "iopub.execute_input": "2023-04-09T11:17:11.947302Z",
     "iopub.status.busy": "2023-04-09T11:17:11.946965Z",
     "iopub.status.idle": "2023-04-09T11:17:11.953281Z",
     "shell.execute_reply": "2023-04-09T11:17:11.952369Z",
     "shell.execute_reply.started": "2023-04-09T11:17:11.947276Z"
    }
   },
   "source": [
    "## Plot `f` For Different Values Of `x`"
   ]
  },
  {
   "cell_type": "code",
   "execution_count": 144,
   "id": "43e304d5-63c6-476e-9bd7-bd3c63834d3a",
   "metadata": {
    "execution": {
     "iopub.execute_input": "2023-04-09T13:42:01.424641Z",
     "iopub.status.busy": "2023-04-09T13:42:01.423439Z",
     "iopub.status.idle": "2023-04-09T13:42:01.556353Z",
     "shell.execute_reply": "2023-04-09T13:42:01.555479Z",
     "shell.execute_reply.started": "2023-04-09T13:42:01.424608Z"
    }
   },
   "outputs": [
    {
     "data": {
      "text/plain": [
       "[<matplotlib.lines.Line2D at 0x7f1647b75ac0>]"
      ]
     },
     "execution_count": 144,
     "metadata": {},
     "output_type": "execute_result"
    },
    {
     "data": {
      "image/png": "[encoded data removed]",
      "text/plain": [
       "<Figure size 640x480 with 1 Axes>"
      ]
     },
     "metadata": {},
     "output_type": "display_data"
    }
   ],
   "source": [
    "xs = np.arange(-5, 5, 0.25)\n",
    "ys = f(xs)\n",
    "plt.plot(xs, ys)"
   ]
  },
  {
   "cell_type": "markdown",
   "id": "11ff9a10-d2b5-4f89-8e11-2fe67b199656",
   "metadata": {},
   "source": [
    "## Finding The [Derivative](https://en.wikipedia.org/wiki/Derivative)\n",
    "\n",
    "A derivative lets you figure out how fast something is changing by looking at how it's changing over a really, really, really tiny amount of time. It's like taking a super close-up picture of something and seeing how it's changing just between two tiny moments."
   ]
  },
  {
   "cell_type": "code",
   "execution_count": 126,
   "id": "066a6454-f9e9-49f6-8f50-b950b7bf7edd",
   "metadata": {
    "execution": {
     "iopub.execute_input": "2023-04-09T13:35:21.599124Z",
     "iopub.status.busy": "2023-04-09T13:35:21.598793Z",
     "iopub.status.idle": "2023-04-09T13:35:21.603963Z",
     "shell.execute_reply": "2023-04-09T13:35:21.603354Z",
     "shell.execute_reply.started": "2023-04-09T13:35:21.599099Z"
    },
    "tags": []
   },
   "outputs": [
    {
     "data": {
      "text/latex": [
       "$\\displaystyle \\frac{d}{dx} f(x) = \\lim_{h \\to 0} \\frac{f(x + h) - f(x)}{h}$"
      ],
      "text/plain": [
       "<IPython.core.display.Math object>"
      ]
     },
     "metadata": {},
     "output_type": "display_data"
    }
   ],
   "source": [
    "from IPython.display import display, Math\n",
    "\n",
    "derivative = r\"\\frac{d}{dx} f(x) = \\lim_{h \\to 0} \\frac{f(x + h) - f(x)}{h}\"\n",
    "display(Math(derivative))"
   ]
  },
  {
   "cell_type": "code",
   "execution_count": 145,
   "id": "964ba911-63c6-401b-9b04-aad10a5126e1",
   "metadata": {
    "execution": {
     "iopub.execute_input": "2023-04-09T13:42:07.912322Z",
     "iopub.status.busy": "2023-04-09T13:42:07.911698Z",
     "iopub.status.idle": "2023-04-09T13:42:07.917793Z",
     "shell.execute_reply": "2023-04-09T13:42:07.917069Z",
     "shell.execute_reply.started": "2023-04-09T13:42:07.912294Z"
    }
   },
   "outputs": [
    {
     "data": {
      "text/plain": [
       "2.999378523327323e-06"
      ]
     },
     "execution_count": 145,
     "metadata": {},
     "output_type": "execute_result"
    }
   ],
   "source": [
    "h = 0.000001\n",
    "x = 2/3\n",
    "(f(x + h) - f(x))/h"
   ]
  },
  {
   "cell_type": "markdown",
   "id": "2972defd-1641-4382-8e9a-717f72560bea",
   "metadata": {},
   "source": [
    "## Les Get More Complex"
   ]
  },
  {
   "cell_type": "code",
   "execution_count": 146,
   "id": "0ca99c67-1ed8-4c9f-92a0-06dc9f1e08cc",
   "metadata": {
    "execution": {
     "iopub.execute_input": "2023-04-09T13:42:10.192848Z",
     "iopub.status.busy": "2023-04-09T13:42:10.192194Z",
     "iopub.status.idle": "2023-04-09T13:42:10.196231Z",
     "shell.execute_reply": "2023-04-09T13:42:10.195603Z",
     "shell.execute_reply.started": "2023-04-09T13:42:10.192821Z"
    }
   },
   "outputs": [],
   "source": [
    "def d(a, b, c):\n",
    "    return a*b + c"
   ]
  },
  {
   "cell_type": "code",
   "execution_count": 147,
   "id": "bee68427-e843-43ca-a3b6-e4d2e8eeaac1",
   "metadata": {
    "execution": {
     "iopub.execute_input": "2023-04-09T13:42:12.964952Z",
     "iopub.status.busy": "2023-04-09T13:42:12.963709Z",
     "iopub.status.idle": "2023-04-09T13:42:12.970500Z",
     "shell.execute_reply": "2023-04-09T13:42:12.969691Z",
     "shell.execute_reply.started": "2023-04-09T13:42:12.964891Z"
    }
   },
   "outputs": [
    {
     "name": "stdout",
     "output_type": "stream",
     "text": [
      "d1 4.0\n",
      "d2 4.0001\n",
      "slope 0.9999999999976694\n"
     ]
    }
   ],
   "source": [
    "h = 0.0001\n",
    "\n",
    "# inputs\n",
    "a = 2.0\n",
    "b = -3.0\n",
    "c = 10.0\n",
    "\n",
    "d1 = d(a, b, c)\n",
    "\n",
    "# find the derivative of d function wrt c by increasing c by a tiny amount\n",
    "c += h\n",
    "\n",
    "d2 = d(a, b, c)\n",
    "\n",
    "print('d1', d1)\n",
    "print('d2', d2)\n",
    "print('slope', (d2 - d1)/h)"
   ]
  },
  {
   "cell_type": "code",
   "execution_count": 148,
   "id": "7479f87e-1ce6-457b-910d-1a7faef77b2a",
   "metadata": {
    "execution": {
     "iopub.execute_input": "2023-04-09T13:42:15.890535Z",
     "iopub.status.busy": "2023-04-09T13:42:15.889318Z",
     "iopub.status.idle": "2023-04-09T13:42:15.895418Z",
     "shell.execute_reply": "2023-04-09T13:42:15.894615Z",
     "shell.execute_reply.started": "2023-04-09T13:42:15.890501Z"
    }
   },
   "outputs": [
    {
     "name": "stdout",
     "output_type": "stream",
     "text": [
      "d1 4.0\n",
      "d2 4.0002\n",
      "slope 2.0000000000042206\n"
     ]
    }
   ],
   "source": [
    "h = 0.0001\n",
    "\n",
    "# inputs\n",
    "a = 2.0\n",
    "b = -3.0\n",
    "c = 10.0\n",
    "\n",
    "d1 = d(a, b, c)\n",
    "\n",
    "# find the derivative of d function wrt b by increasing b by a tiny amount\n",
    "b += h\n",
    "\n",
    "d2 = d(a, b, c)\n",
    "\n",
    "print('d1', d1)\n",
    "print('d2', d2)\n",
    "print('slope', (d2 - d1)/h)"
   ]
  },
  {
   "cell_type": "markdown",
   "id": "3817e3d7-ca0f-4a39-9d3c-50fbc422ce0e",
   "metadata": {},
   "source": [
    "## Neural Network Node"
   ]
  },
  {
   "cell_type": "code",
   "execution_count": 163,
   "id": "5af5f874-2204-4363-81e9-cfd201e40f7b",
   "metadata": {
    "execution": {
     "iopub.execute_input": "2023-04-09T14:12:48.039252Z",
     "iopub.status.busy": "2023-04-09T14:12:48.038940Z",
     "iopub.status.idle": "2023-04-09T14:12:48.053500Z",
     "shell.execute_reply": "2023-04-09T14:12:48.052762Z",
     "shell.execute_reply.started": "2023-04-09T14:12:48.039228Z"
    }
   },
   "outputs": [],
   "source": [
    "class Value:\n",
    "    def __init__(self, data, _children=(), _op='', label=''):\n",
    "        self.data = data\n",
    "        self.grad = 0.0 # derivative of l with respect to the value\n",
    "        self._backward = lambda: None\n",
    "        self._prev = set(_children)\n",
    "        self._op = _op\n",
    "        self.label = label\n",
    "\n",
    "    def __repr__(self):\n",
    "        return f\"Value(data={self.data})\"\n",
    "    \n",
    "    def __add__(self, other):\n",
    "        other = other if isinstance(other, Value) else Value(other)\n",
    "        out = Value(self.data + other.data, (self, other), '+')\n",
    "\n",
    "        def _backward():\n",
    "            self.grad += out.grad\n",
    "            other.grad += out.grad\n",
    "        out._backward = _backward\n",
    "\n",
    "        return out\n",
    "    \n",
    "    def __mul__(self, other):\n",
    "        other = other if isinstance(other, Value) else Value(other)\n",
    "        out = Value(self.data * other.data, (self, other), '*')\n",
    "\n",
    "        def _backward():\n",
    "            self.grad += other.data * out.grad\n",
    "            other.grad += self.data * out.grad\n",
    "        out._backward = _backward\n",
    "\n",
    "        return out\n",
    "\n",
    "    def __pow__(self, other):\n",
    "        assert isinstance(other, (int, float)), \"only supporting int/float powers for now\"\n",
    "        out = Value(self.data**other, (self,), f'**{other}')\n",
    "\n",
    "        def _backward():\n",
    "            self.grad += (other * self.data**(other-1)) * out.grad\n",
    "        out._backward = _backward\n",
    "\n",
    "        return out\n",
    "\n",
    "    def tanh(self):\n",
    "        x = self.data\n",
    "        t = (math.exp(2 * x) - 1) / (math.exp(2 * x) + 1)\n",
    "        out = Value(t, (self,), 'tanh')\n",
    "\n",
    "        def _backward():\n",
    "            self.grad += (1 - t ** 2) * out.grad\n",
    "\n",
    "        out._backward = _backward\n",
    "\n",
    "        return out\n",
    "    \n",
    "    def relu(self):\n",
    "        out = Value(0 if self.data < 0 else self.data, (self,), 'ReLU')\n",
    "\n",
    "        def _backward():\n",
    "            self.grad += (out.data > 0) * out.grad\n",
    "        out._backward = _backward\n",
    "\n",
    "        return out\n",
    "\n",
    "    \n",
    "    def tanh(self):\n",
    "        x = self.data\n",
    "        t = (math.exp(2 * x) - 1) / (math.exp(2 * x) + 1)\n",
    "        out = Value(t, (self,), 'tanh')\n",
    "\n",
    "        def _backward():\n",
    "            self.grad += (1 - t ** 2) * out.grad\n",
    "\n",
    "        out._backward = _backward\n",
    "\n",
    "        return out\n",
    "    \n",
    "    def exp(self):\n",
    "        x = self.data\n",
    "        out = Value(math.exp(x), (self, ), 'exp')\n",
    "        \n",
    "        def _backward():\n",
    "            self.grad += out.data * out.grad # NOTE: in the video I incorrectly used = instead of +=. Fixed here.\n",
    "        \n",
    "        out._backward = _backward\n",
    "        return out\n",
    "\n",
    "    def backward(self):\n",
    "        # topological order all of the children in the graph\n",
    "        topo = []\n",
    "        visited = set()\n",
    "        def build_topo(v):\n",
    "            if v not in visited:\n",
    "                visited.add(v)\n",
    "                for child in v._prev:\n",
    "                    build_topo(child)\n",
    "                topo.append(v)\n",
    "        build_topo(self)\n",
    "\n",
    "        # go one variable at a time and apply the chain rule to get its gradient\n",
    "        self.grad = 1\n",
    "        for v in reversed(topo):\n",
    "            v._backward()\n",
    "\n",
    "    def __neg__(self): # -self\n",
    "        return self * -1\n",
    "\n",
    "    def __radd__(self, other): # other + self\n",
    "        return self + other\n",
    "\n",
    "    def __sub__(self, other): # self - other\n",
    "        return self + (-other)\n",
    "\n",
    "    def __rsub__(self, other): # other - self\n",
    "        return other + (-self)\n",
    "\n",
    "    def __rmul__(self, other): # other * self\n",
    "        return self * other\n",
    "\n",
    "    def __truediv__(self, other): # self / other\n",
    "        return self * other**-1\n",
    "\n",
    "    def __rtruediv__(self, other): # other / self\n",
    "        return other * self**-1"
   ]
  },
  {
   "cell_type": "code",
   "execution_count": 150,
   "id": "95bea032-8ceb-491c-aac6-2a9ac4f8f8ef",
   "metadata": {
    "execution": {
     "iopub.execute_input": "2023-04-09T13:42:23.573369Z",
     "iopub.status.busy": "2023-04-09T13:42:23.572549Z",
     "iopub.status.idle": "2023-04-09T13:42:23.580039Z",
     "shell.execute_reply": "2023-04-09T13:42:23.579064Z",
     "shell.execute_reply.started": "2023-04-09T13:42:23.573336Z"
    }
   },
   "outputs": [
    {
     "data": {
      "text/plain": [
       "Value(data=-8.0)"
      ]
     },
     "execution_count": 150,
     "metadata": {},
     "output_type": "execute_result"
    }
   ],
   "source": [
    "a = Value(2.0, label='a')\n",
    "b = Value(-3.0, label='b')\n",
    "c = Value(10.0, label='c')\n",
    "e = a*b; e.label = 'e'\n",
    "d = e + c; d.label = 'd'\n",
    "f = Value(-2.0, label='f')\n",
    "L = d * f; L.label = 'L'\n",
    "L"
   ]
  },
  {
   "cell_type": "markdown",
   "id": "de62b2d1-4f63-4dfe-ad84-47dfa4eb3a8d",
   "metadata": {},
   "source": [
    "## Graph Visualization Of Neural Network"
   ]
  },
  {
   "cell_type": "code",
   "execution_count": 80,
   "id": "7b7ebabd-711b-4412-b02c-11d99e6a990f",
   "metadata": {
    "execution": {
     "iopub.execute_input": "2023-04-09T11:45:48.717803Z",
     "iopub.status.busy": "2023-04-09T11:45:48.716988Z",
     "iopub.status.idle": "2023-04-09T11:45:48.724439Z",
     "shell.execute_reply": "2023-04-09T11:45:48.723677Z",
     "shell.execute_reply.started": "2023-04-09T11:45:48.717773Z"
    },
    "jupyter": {
     "source_hidden": true
    }
   },
   "outputs": [],
   "source": [
    "from graphviz import Digraph\n",
    "\n",
    "\n",
    "def trace(root):\n",
    "    # builds a set of all nodes and edges in a graph\n",
    "    nodes, edges = set(), set()\n",
    "\n",
    "    def build(v):\n",
    "        if v not in nodes:\n",
    "            nodes.add(v)\n",
    "            for child in v._prev:\n",
    "                edges.add((child, v))\n",
    "                build(child)\n",
    "\n",
    "    build(root)\n",
    "    return nodes, edges\n",
    "\n",
    "\n",
    "def draw_dot(root):\n",
    "    dot = Digraph(format='svg', graph_attr={'rankdir': 'LR'})  # LR = left to right\n",
    "\n",
    "    nodes, edges = trace(root)\n",
    "    for n in nodes:\n",
    "        uid = str(id(n))\n",
    "        # for any value in the graph, create a rectangular ('record') node for it\n",
    "        dot.node(name=uid, label=\"{ %s | data %.4f | grad %.4f }\" % (n.label, n.data, n.grad), shape='record')\n",
    "        if n._op:\n",
    "            # if this value is a result of some operation, create an op node for it\n",
    "            dot.node(name=uid + n._op, label=n._op)\n",
    "            # and connect this node to it\n",
    "            dot.edge(uid + n._op, uid)\n",
    "\n",
    "    for n1, n2 in edges:\n",
    "        # connect n1 to the op node of n2\n",
    "        dot.edge(str(id(n1)), str(id(n2)) + n2._op)\n",
    "\n",
    "    return dot"
   ]
  },
  {
   "cell_type": "code",
   "execution_count": 157,
   "id": "12651df0-a648-4ff2-83f0-8e9dfb4c964d",
   "metadata": {
    "execution": {
     "iopub.execute_input": "2023-04-09T13:43:05.111390Z",
     "iopub.status.busy": "2023-04-09T13:43:05.110749Z",
     "iopub.status.idle": "2023-04-09T13:43:05.140078Z",
     "shell.execute_reply": "2023-04-09T13:43:05.139199Z",
     "shell.execute_reply.started": "2023-04-09T13:43:05.111355Z"
    }
   },
   "outputs": [
    {
     "data": {
      "image/svg+xml": [
       "<?xml version=\"1.0\" encoding=\"UTF-8\" standalone=\"no\"?>\n",
       "<!DOCTYPE svg PUBLIC \"-//W3C//DTD SVG 1.1//EN\"\n",
       " \"http://www.w3.org/Graphics/SVG/1.1/DTD/svg11.dtd\">\n",
       "<!-- Generated by graphviz version 2.43.0 (0)\n",
       " -->\n",
       "<!-- Title: %3 Pages: 1 -->\n",
       "<svg width=\"1326pt\" height=\"128pt\"\n",
       " viewBox=\"0.00 0.00 1326.00 128.00\" xmlns=\"http://www.w3.org/2000/svg\" xmlns:xlink=\"http://www.w3.org/1999/xlink\">\n",
       "<g id=\"graph0\" class=\"graph\" transform=\"scale(1 1) rotate(0) translate(4 124)\">\n",
       "<title>%3</title>\n",
       "<polygon fill=\"white\" stroke=\"transparent\" points=\"-4,4 -4,-124 1322,-124 1322,4 -4,4\"/>\n",
       "<!-- 139733671979040 -->\n",
       "<g id=\"node1\" class=\"node\">\n",
       "<title>139733671979040</title>\n",
       "<polygon fill=\"none\" stroke=\"black\" points=\"727,-82.5 727,-118.5 960,-118.5 960,-82.5 727,-82.5\"/>\n",
       "<text text-anchor=\"middle\" x=\"738\" y=\"-96.8\" font-family=\"Times,serif\" font-size=\"14.00\">f</text>\n",
       "<polyline fill=\"none\" stroke=\"black\" points=\"749,-82.5 749,-118.5 \"/>\n",
       "<text text-anchor=\"middle\" x=\"802.5\" y=\"-96.8\" font-family=\"Times,serif\" font-size=\"14.00\">data &#45;1.9600</text>\n",
       "<polyline fill=\"none\" stroke=\"black\" points=\"856,-82.5 856,-118.5 \"/>\n",
       "<text text-anchor=\"middle\" x=\"908\" y=\"-96.8\" font-family=\"Times,serif\" font-size=\"14.00\">grad 4.0000</text>\n",
       "</g>\n",
       "<!-- 139733671378176* -->\n",
       "<g id=\"node6\" class=\"node\">\n",
       "<title>139733671378176*</title>\n",
       "<ellipse fill=\"none\" stroke=\"black\" cx=\"1023\" cy=\"-72.5\" rx=\"27\" ry=\"18\"/>\n",
       "<text text-anchor=\"middle\" x=\"1023\" y=\"-68.8\" font-family=\"Times,serif\" font-size=\"14.00\">*</text>\n",
       "</g>\n",
       "<!-- 139733671979040&#45;&gt;139733671378176* -->\n",
       "<g id=\"edge4\" class=\"edge\">\n",
       "<title>139733671979040&#45;&gt;139733671378176*</title>\n",
       "<path fill=\"none\" stroke=\"black\" d=\"M958.67,-82.49C968.61,-80.92 978.08,-79.43 986.53,-78.1\"/>\n",
       "<polygon fill=\"black\" stroke=\"black\" points=\"987.31,-81.52 996.64,-76.5 986.22,-74.6 987.31,-81.52\"/>\n",
       "</g>\n",
       "<!-- 139733671375920 -->\n",
       "<g id=\"node2\" class=\"node\">\n",
       "<title>139733671375920</title>\n",
       "<polygon fill=\"none\" stroke=\"black\" points=\"368,-55.5 368,-91.5 600,-91.5 600,-55.5 368,-55.5\"/>\n",
       "<text text-anchor=\"middle\" x=\"378.5\" y=\"-69.8\" font-family=\"Times,serif\" font-size=\"14.00\"> </text>\n",
       "<polyline fill=\"none\" stroke=\"black\" points=\"389,-55.5 389,-91.5 \"/>\n",
       "<text text-anchor=\"middle\" x=\"442.5\" y=\"-69.8\" font-family=\"Times,serif\" font-size=\"14.00\">data &#45;6.2624</text>\n",
       "<polyline fill=\"none\" stroke=\"black\" points=\"496,-55.5 496,-91.5 \"/>\n",
       "<text text-anchor=\"middle\" x=\"548\" y=\"-69.8\" font-family=\"Times,serif\" font-size=\"14.00\">grad 0.0000</text>\n",
       "</g>\n",
       "<!-- 139733671375296+ -->\n",
       "<g id=\"node10\" class=\"node\">\n",
       "<title>139733671375296+</title>\n",
       "<ellipse fill=\"none\" stroke=\"black\" cx=\"664\" cy=\"-45.5\" rx=\"27\" ry=\"18\"/>\n",
       "<text text-anchor=\"middle\" x=\"664\" y=\"-41.8\" font-family=\"Times,serif\" font-size=\"14.00\">+</text>\n",
       "</g>\n",
       "<!-- 139733671375920&#45;&gt;139733671375296+ -->\n",
       "<g id=\"edge7\" class=\"edge\">\n",
       "<title>139733671375920&#45;&gt;139733671375296+</title>\n",
       "<path fill=\"none\" stroke=\"black\" d=\"M599.49,-55.49C609.46,-53.92 618.96,-52.43 627.43,-51.1\"/>\n",
       "<polygon fill=\"black\" stroke=\"black\" points=\"628.24,-54.51 637.57,-49.5 627.15,-47.6 628.24,-54.51\"/>\n",
       "</g>\n",
       "<!-- 139733671375920* -->\n",
       "<g id=\"node3\" class=\"node\">\n",
       "<title>139733671375920*</title>\n",
       "<ellipse fill=\"none\" stroke=\"black\" cx=\"304\" cy=\"-73.5\" rx=\"27\" ry=\"18\"/>\n",
       "<text text-anchor=\"middle\" x=\"304\" y=\"-69.8\" font-family=\"Times,serif\" font-size=\"14.00\">*</text>\n",
       "</g>\n",
       "<!-- 139733671375920*&#45;&gt;139733671375920 -->\n",
       "<g id=\"edge1\" class=\"edge\">\n",
       "<title>139733671375920*&#45;&gt;139733671375920</title>\n",
       "<path fill=\"none\" stroke=\"black\" d=\"M331.26,-73.5C338.94,-73.5 347.89,-73.5 357.53,-73.5\"/>\n",
       "<polygon fill=\"black\" stroke=\"black\" points=\"357.8,-77 367.8,-73.5 357.8,-70 357.8,-77\"/>\n",
       "</g>\n",
       "<!-- 139733666494112 -->\n",
       "<g id=\"node4\" class=\"node\">\n",
       "<title>139733666494112</title>\n",
       "<polygon fill=\"none\" stroke=\"black\" points=\"367,-0.5 367,-36.5 601,-36.5 601,-0.5 367,-0.5\"/>\n",
       "<text text-anchor=\"middle\" x=\"379\" y=\"-14.8\" font-family=\"Times,serif\" font-size=\"14.00\">c</text>\n",
       "<polyline fill=\"none\" stroke=\"black\" points=\"391,-0.5 391,-36.5 \"/>\n",
       "<text text-anchor=\"middle\" x=\"442\" y=\"-14.8\" font-family=\"Times,serif\" font-size=\"14.00\">data 9.9800</text>\n",
       "<polyline fill=\"none\" stroke=\"black\" points=\"493,-0.5 493,-36.5 \"/>\n",
       "<text text-anchor=\"middle\" x=\"547\" y=\"-14.8\" font-family=\"Times,serif\" font-size=\"14.00\">grad &#45;2.0000</text>\n",
       "</g>\n",
       "<!-- 139733666494112&#45;&gt;139733671375296+ -->\n",
       "<g id=\"edge8\" class=\"edge\">\n",
       "<title>139733666494112&#45;&gt;139733671375296+</title>\n",
       "<path fill=\"none\" stroke=\"black\" d=\"M601.24,-36.13C610.6,-37.55 619.51,-38.9 627.51,-40.12\"/>\n",
       "<polygon fill=\"black\" stroke=\"black\" points=\"627.04,-43.59 637.45,-41.62 628.09,-36.66 627.04,-43.59\"/>\n",
       "</g>\n",
       "<!-- 139733671378176 -->\n",
       "<g id=\"node5\" class=\"node\">\n",
       "<title>139733671378176</title>\n",
       "<polygon fill=\"none\" stroke=\"black\" points=\"1086,-54.5 1086,-90.5 1318,-90.5 1318,-54.5 1086,-54.5\"/>\n",
       "<text text-anchor=\"middle\" x=\"1096.5\" y=\"-68.8\" font-family=\"Times,serif\" font-size=\"14.00\"> </text>\n",
       "<polyline fill=\"none\" stroke=\"black\" points=\"1107,-54.5 1107,-90.5 \"/>\n",
       "<text text-anchor=\"middle\" x=\"1160.5\" y=\"-68.8\" font-family=\"Times,serif\" font-size=\"14.00\">data &#45;7.2865</text>\n",
       "<polyline fill=\"none\" stroke=\"black\" points=\"1214,-54.5 1214,-90.5 \"/>\n",
       "<text text-anchor=\"middle\" x=\"1266\" y=\"-68.8\" font-family=\"Times,serif\" font-size=\"14.00\">grad 0.0000</text>\n",
       "</g>\n",
       "<!-- 139733671378176*&#45;&gt;139733671378176 -->\n",
       "<g id=\"edge2\" class=\"edge\">\n",
       "<title>139733671378176*&#45;&gt;139733671378176</title>\n",
       "<path fill=\"none\" stroke=\"black\" d=\"M1050.12,-72.5C1057.53,-72.5 1066.14,-72.5 1075.4,-72.5\"/>\n",
       "<polygon fill=\"black\" stroke=\"black\" points=\"1075.69,-76 1085.69,-72.5 1075.69,-69 1075.69,-76\"/>\n",
       "</g>\n",
       "<!-- 139733666495744 -->\n",
       "<g id=\"node7\" class=\"node\">\n",
       "<title>139733666495744</title>\n",
       "<polygon fill=\"none\" stroke=\"black\" points=\"5,-83.5 5,-119.5 236,-119.5 236,-83.5 5,-83.5\"/>\n",
       "<text text-anchor=\"middle\" x=\"17.5\" y=\"-97.8\" font-family=\"Times,serif\" font-size=\"14.00\">a</text>\n",
       "<polyline fill=\"none\" stroke=\"black\" points=\"30,-83.5 30,-119.5 \"/>\n",
       "<text text-anchor=\"middle\" x=\"81\" y=\"-97.8\" font-family=\"Times,serif\" font-size=\"14.00\">data 2.0600</text>\n",
       "<polyline fill=\"none\" stroke=\"black\" points=\"132,-83.5 132,-119.5 \"/>\n",
       "<text text-anchor=\"middle\" x=\"184\" y=\"-97.8\" font-family=\"Times,serif\" font-size=\"14.00\">grad 6.0000</text>\n",
       "</g>\n",
       "<!-- 139733666495744&#45;&gt;139733671375920* -->\n",
       "<g id=\"edge9\" class=\"edge\">\n",
       "<title>139733666495744&#45;&gt;139733671375920*</title>\n",
       "<path fill=\"none\" stroke=\"black\" d=\"M236.19,-83.81C247.37,-82.08 258.02,-80.44 267.41,-78.99\"/>\n",
       "<polygon fill=\"black\" stroke=\"black\" points=\"268.08,-82.43 277.43,-77.44 267.01,-75.51 268.08,-82.43\"/>\n",
       "</g>\n",
       "<!-- 139733671583600 -->\n",
       "<g id=\"node8\" class=\"node\">\n",
       "<title>139733671583600</title>\n",
       "<polygon fill=\"none\" stroke=\"black\" points=\"0,-28.5 0,-64.5 241,-64.5 241,-28.5 0,-28.5\"/>\n",
       "<text text-anchor=\"middle\" x=\"13\" y=\"-42.8\" font-family=\"Times,serif\" font-size=\"14.00\">b</text>\n",
       "<polyline fill=\"none\" stroke=\"black\" points=\"26,-28.5 26,-64.5 \"/>\n",
       "<text text-anchor=\"middle\" x=\"79.5\" y=\"-42.8\" font-family=\"Times,serif\" font-size=\"14.00\">data &#45;3.0400</text>\n",
       "<polyline fill=\"none\" stroke=\"black\" points=\"133,-28.5 133,-64.5 \"/>\n",
       "<text text-anchor=\"middle\" x=\"187\" y=\"-42.8\" font-family=\"Times,serif\" font-size=\"14.00\">grad &#45;4.0000</text>\n",
       "</g>\n",
       "<!-- 139733671583600&#45;&gt;139733671375920* -->\n",
       "<g id=\"edge5\" class=\"edge\">\n",
       "<title>139733671583600&#45;&gt;139733671375920*</title>\n",
       "<path fill=\"none\" stroke=\"black\" d=\"M241.05,-64.28C250.46,-65.68 259.41,-67.02 267.44,-68.21\"/>\n",
       "<polygon fill=\"black\" stroke=\"black\" points=\"267.01,-71.68 277.41,-69.69 268.04,-64.76 267.01,-71.68\"/>\n",
       "</g>\n",
       "<!-- 139733671375296 -->\n",
       "<g id=\"node9\" class=\"node\">\n",
       "<title>139733671375296</title>\n",
       "<polygon fill=\"none\" stroke=\"black\" points=\"730,-27.5 730,-63.5 957,-63.5 957,-27.5 730,-27.5\"/>\n",
       "<text text-anchor=\"middle\" x=\"740.5\" y=\"-41.8\" font-family=\"Times,serif\" font-size=\"14.00\"> </text>\n",
       "<polyline fill=\"none\" stroke=\"black\" points=\"751,-27.5 751,-63.5 \"/>\n",
       "<text text-anchor=\"middle\" x=\"802\" y=\"-41.8\" font-family=\"Times,serif\" font-size=\"14.00\">data 3.7176</text>\n",
       "<polyline fill=\"none\" stroke=\"black\" points=\"853,-27.5 853,-63.5 \"/>\n",
       "<text text-anchor=\"middle\" x=\"905\" y=\"-41.8\" font-family=\"Times,serif\" font-size=\"14.00\">grad 0.0000</text>\n",
       "</g>\n",
       "<!-- 139733671375296&#45;&gt;139733671378176* -->\n",
       "<g id=\"edge6\" class=\"edge\">\n",
       "<title>139733671375296&#45;&gt;139733671378176*</title>\n",
       "<path fill=\"none\" stroke=\"black\" d=\"M957.16,-62.64C967.71,-64.24 977.78,-65.77 986.69,-67.13\"/>\n",
       "<polygon fill=\"black\" stroke=\"black\" points=\"986.18,-70.59 996.59,-68.64 987.23,-63.67 986.18,-70.59\"/>\n",
       "</g>\n",
       "<!-- 139733671375296+&#45;&gt;139733671375296 -->\n",
       "<g id=\"edge3\" class=\"edge\">\n",
       "<title>139733671375296+&#45;&gt;139733671375296</title>\n",
       "<path fill=\"none\" stroke=\"black\" d=\"M691.19,-45.5C699.45,-45.5 709.18,-45.5 719.65,-45.5\"/>\n",
       "<polygon fill=\"black\" stroke=\"black\" points=\"719.9,-49 729.9,-45.5 719.9,-42 719.9,-49\"/>\n",
       "</g>\n",
       "</g>\n",
       "</svg>\n"
      ],
      "text/plain": [
       "<graphviz.graphs.Digraph at 0x7f1647d87b20>"
      ]
     },
     "execution_count": 157,
     "metadata": {},
     "output_type": "execute_result"
    }
   ],
   "source": [
    "draw_dot(L)"
   ]
  },
  {
   "cell_type": "markdown",
   "id": "a7703c1d-59b6-4238-800c-0e74c6f21880",
   "metadata": {},
   "source": [
    "## Manual Backpropagation\n",
    "Start here at the end and we're going to go reverse and calculate the gradient along all these intermediate values and really what we're computing for every single value here is the derivative of that node with respect to `L`. \n",
    "\n",
    "The derivative of `L` with respect to `L` is just `1` and then we're going to derive what is the derivative of `L` with respect to `f`, with respect to `d`, with respect to `c` with respect to `e`, with respect to `b`, and with respect to `a` and in the neural network setting you'd be very interested in the derivative of basically this loss function `L` with respect to the weights of a neural network and here of course we have just these variables `a`, `b`, `c` and `f` but some of these will eventually represent the weights of a neural net and so we'll need to know how those weights are impacting the loss function. \n",
    "\n",
    "We're interested basically in the derivative of the output with respect to some of its leaf nodes and those leaf nodes will be the weights of the neural net and the other leaf nodes of course will be the data itself but usually we will not want or use the derivative of the loss function with respect to data because the data is fixed but the weights will be iterated on using the gradient information. \n"
   ]
  },
  {
   "cell_type": "code",
   "execution_count": 152,
   "id": "ff235c8b-b033-439b-8619-b27bdee7b3c2",
   "metadata": {
    "execution": {
     "iopub.execute_input": "2023-04-09T13:42:34.525539Z",
     "iopub.status.busy": "2023-04-09T13:42:34.524593Z",
     "iopub.status.idle": "2023-04-09T13:42:34.532498Z",
     "shell.execute_reply": "2023-04-09T13:42:34.531813Z",
     "shell.execute_reply.started": "2023-04-09T13:42:34.525502Z"
    }
   },
   "outputs": [
    {
     "name": "stdout",
     "output_type": "stream",
     "text": [
      "-3.9999999999995595\n"
     ]
    }
   ],
   "source": [
    "def lol():\n",
    "    h = 0.001\n",
    "\n",
    "    a = Value(2.0, label='a')\n",
    "    b = Value(-3.0, label='b')\n",
    "    c = Value(10.0, label='c')\n",
    "    e = a * b;\n",
    "    e.label = 'e'\n",
    "    d = e + c;\n",
    "    d.label = 'd'\n",
    "    f = Value(-2.0, label='f')\n",
    "    L = d * f;\n",
    "    L.label = 'L'\n",
    "    L1 = L.data\n",
    "\n",
    "    a = Value(2.0, label='a')\n",
    "    b = Value(-3.0, label='b')\n",
    "    b.data += h\n",
    "    c = Value(10.0, label='c')\n",
    "    e = a * b;\n",
    "    e.label = 'e'\n",
    "    d = e + c;\n",
    "    d.label = 'd'\n",
    "    f = Value(-2.0, label='f')\n",
    "    L = d * f;\n",
    "    L.label = 'L'\n",
    "    L2 = L.data\n",
    "\n",
    "    print((L2 - L1) / h)\n",
    "\n",
    "\n",
    "lol()"
   ]
  },
  {
   "cell_type": "code",
   "execution_count": 97,
   "id": "5aae352c-9af5-42a8-927d-0cc7d23db53c",
   "metadata": {
    "execution": {
     "iopub.execute_input": "2023-04-09T12:25:18.491563Z",
     "iopub.status.busy": "2023-04-09T12:25:18.490928Z",
     "iopub.status.idle": "2023-04-09T12:25:18.509386Z",
     "shell.execute_reply": "2023-04-09T12:25:18.508793Z",
     "shell.execute_reply.started": "2023-04-09T12:25:18.491531Z"
    }
   },
   "outputs": [
    {
     "data": {
      "text/latex": [
       "$\\displaystyle L = d*f$"
      ],
      "text/plain": [
       "<IPython.core.display.Math object>"
      ]
     },
     "metadata": {},
     "output_type": "display_data"
    },
    {
     "data": {
      "text/latex": [
       "$\\displaystyle \\frac {dL} {dL} = 1$"
      ],
      "text/plain": [
       "<IPython.core.display.Math object>"
      ]
     },
     "metadata": {},
     "output_type": "display_data"
    },
    {
     "data": {
      "text/latex": [
       "$\\displaystyle \\frac {dL} {df} = \\frac {(d+h)*f - (d*f)} {h} = d$"
      ],
      "text/plain": [
       "<IPython.core.display.Math object>"
      ]
     },
     "metadata": {},
     "output_type": "display_data"
    },
    {
     "data": {
      "text/latex": [
       "$\\displaystyle \\frac {dL} {dd} = f$"
      ],
      "text/plain": [
       "<IPython.core.display.Math object>"
      ]
     },
     "metadata": {},
     "output_type": "display_data"
    }
   ],
   "source": [
    "display(Math(r\"L = d*f\"))\n",
    "display(Math(r\"\\frac {dL} {dL} = 1\"))\n",
    "display(Math(r\"\\frac {dL} {df} = \\frac {(d+h)*f - (d*f)} {h} = d\"))\n",
    "display(Math(r\"\\frac {dL} {dd} = f\"))"
   ]
  },
  {
   "cell_type": "code",
   "execution_count": 153,
   "id": "87ff4604-e424-4911-9ef0-975030607607",
   "metadata": {
    "execution": {
     "iopub.execute_input": "2023-04-09T13:42:38.504776Z",
     "iopub.status.busy": "2023-04-09T13:42:38.504449Z",
     "iopub.status.idle": "2023-04-09T13:42:38.510834Z",
     "shell.execute_reply": "2023-04-09T13:42:38.510002Z",
     "shell.execute_reply.started": "2023-04-09T13:42:38.504752Z"
    }
   },
   "outputs": [],
   "source": [
    "L.grad = 1.0\n",
    "f.grad = d.data\n",
    "d.grad = f.data"
   ]
  },
  {
   "cell_type": "markdown",
   "id": "0291632b-9fed-4182-b5fd-0ecd70cab6c1",
   "metadata": {},
   "source": [
    "Gradient check is when we are deriving gradients using backpropagation and getting the derivative with respect to all the intermediate results.\n",
    "\n",
    "Numerical gradient is just estimating it using small step size."
   ]
  },
  {
   "cell_type": "markdown",
   "id": "42808eb0-a9c6-4409-a498-9a11b01311ba",
   "metadata": {},
   "source": [
    "Now we're getting to the crux of backpropagation. So this will be the most important node to understand because if you understand the gradient for this node you understand all of backpropagation and all of training of neural nets basically.\n",
    "\n",
    "So we need to derive `dL` by `dc` in other words the derivative of `L` with respect to `c`. How is `L` sensitive to c so if we wiggle `c` how does that impact `L`.\n",
    "\n",
    "We know how `c` impacts `d` and so just very intuitively if you know the impact that `c` is having on `d` and the impact `d` is having on `L`, we can calculate the impact of `c` on `L`."
   ]
  },
  {
   "cell_type": "code",
   "execution_count": 98,
   "id": "9630fa2a-7bff-4985-9694-f4465c0b1147",
   "metadata": {
    "execution": {
     "iopub.execute_input": "2023-04-09T12:39:37.553411Z",
     "iopub.status.busy": "2023-04-09T12:39:37.552749Z",
     "iopub.status.idle": "2023-04-09T12:39:37.561038Z",
     "shell.execute_reply": "2023-04-09T12:39:37.560470Z",
     "shell.execute_reply.started": "2023-04-09T12:39:37.553381Z"
    }
   },
   "outputs": [
    {
     "data": {
      "text/latex": [
       "$\\displaystyle d = e+c$"
      ],
      "text/plain": [
       "<IPython.core.display.Math object>"
      ]
     },
     "metadata": {},
     "output_type": "display_data"
    },
    {
     "data": {
      "text/latex": [
       "$\\displaystyle \\frac {dd} {dc} = \\frac {(c+h) + e - (c+e)} {h} = 1.0$"
      ],
      "text/plain": [
       "<IPython.core.display.Math object>"
      ]
     },
     "metadata": {},
     "output_type": "display_data"
    },
    {
     "data": {
      "text/latex": [
       "$\\displaystyle \\frac {dL} {de} = 1.0$"
      ],
      "text/plain": [
       "<IPython.core.display.Math object>"
      ]
     },
     "metadata": {},
     "output_type": "display_data"
    }
   ],
   "source": [
    "display(Math(r\"d = e+c\"))\n",
    "display(Math(r\"\\frac {dd} {dc} = \\frac {(c+h) + e - (c+e)} {h} = 1.0\"))\n",
    "display(Math(r\"\\frac {dL} {de} = 1.0\"))"
   ]
  },
  {
   "cell_type": "markdown",
   "id": "26a6b86d-7b60-4e87-9df0-aba893adb47e",
   "metadata": {},
   "source": [
    "So, we know how `L` impacts `d` and now we know how `c` and `e` impact `d`, how do we put that information together to write `dl` by `dc` and the answer of course is the [chain rule](https://en.wikipedia.org/wiki/Chain_rule) in calculus.\n",
    "\n",
    "If a variable `z` depends on the variable `y`, which itself depends on the variable `x` (that is, `y` and `z` are dependent variables), then `z` depends on `x` as well, via the intermediate variable `y`. In this case, the chain rule is expressed as:\n",
    "\n"
   ]
  },
  {
   "cell_type": "code",
   "execution_count": 99,
   "id": "cd23dd16-09c2-49a9-8b52-4f99500b6b0f",
   "metadata": {
    "execution": {
     "iopub.execute_input": "2023-04-09T12:49:33.525362Z",
     "iopub.status.busy": "2023-04-09T12:49:33.524580Z",
     "iopub.status.idle": "2023-04-09T12:49:33.535634Z",
     "shell.execute_reply": "2023-04-09T12:49:33.534802Z",
     "shell.execute_reply.started": "2023-04-09T12:49:33.525331Z"
    }
   },
   "outputs": [
    {
     "data": {
      "text/latex": [
       "$\\displaystyle \\frac {dz} {dx} = \\frac {dz} {dy} * \\frac {dy} {dx}$"
      ],
      "text/plain": [
       "<IPython.core.display.Math object>"
      ]
     },
     "metadata": {},
     "output_type": "display_data"
    }
   ],
   "source": [
    "display(Math(r\"\\frac {dz} {dx} = \\frac {dz} {dy} * \\frac {dy} {dx}\"))\n"
   ]
  },
  {
   "cell_type": "markdown",
   "id": "3c636e9b-d4cd-4e8c-b59b-4f35d2d3c5ea",
   "metadata": {},
   "source": [
    "\n",
    "What it means for us is a really exactly the same thing:\n"
   ]
  },
  {
   "cell_type": "code",
   "execution_count": 100,
   "id": "2998aaf6-0a85-4c53-a7a7-38d2b66e749b",
   "metadata": {
    "execution": {
     "iopub.execute_input": "2023-04-09T12:52:49.754987Z",
     "iopub.status.busy": "2023-04-09T12:52:49.754356Z",
     "iopub.status.idle": "2023-04-09T12:52:49.760110Z",
     "shell.execute_reply": "2023-04-09T12:52:49.759429Z",
     "shell.execute_reply.started": "2023-04-09T12:52:49.754960Z"
    }
   },
   "outputs": [
    {
     "data": {
      "text/latex": [
       "$\\displaystyle \\frac {dL} {dc} = \\frac {dL} {dd} * \\frac {dd} {dc}$"
      ],
      "text/plain": [
       "<IPython.core.display.Math object>"
      ]
     },
     "metadata": {},
     "output_type": "display_data"
    }
   ],
   "source": [
    "display(Math(r\"\\frac {dL} {dc} = \\frac {dL} {dd} * \\frac {dd} {dc}\"))"
   ]
  },
  {
   "cell_type": "code",
   "execution_count": 154,
   "id": "5a01d34e-8270-48c4-88f2-9465e8a820ab",
   "metadata": {
    "execution": {
     "iopub.execute_input": "2023-04-09T13:42:46.594836Z",
     "iopub.status.busy": "2023-04-09T13:42:46.593918Z",
     "iopub.status.idle": "2023-04-09T13:42:46.598451Z",
     "shell.execute_reply": "2023-04-09T13:42:46.597782Z",
     "shell.execute_reply.started": "2023-04-09T13:42:46.594802Z"
    }
   },
   "outputs": [],
   "source": [
    "c.grad = d.grad * 1\n",
    "e.grad = d.grad * 1"
   ]
  },
  {
   "cell_type": "markdown",
   "id": "7590de8e-2632-43ef-9b2e-9220de74aaec",
   "metadata": {},
   "source": [
    "Essentially the `+` just directly routes the gradients back."
   ]
  },
  {
   "cell_type": "code",
   "execution_count": 104,
   "id": "1d243079-1476-470b-8154-23d4d8076a7a",
   "metadata": {
    "execution": {
     "iopub.execute_input": "2023-04-09T13:00:56.501021Z",
     "iopub.status.busy": "2023-04-09T13:00:56.500662Z",
     "iopub.status.idle": "2023-04-09T13:00:56.510040Z",
     "shell.execute_reply": "2023-04-09T13:00:56.509373Z",
     "shell.execute_reply.started": "2023-04-09T13:00:56.500993Z"
    }
   },
   "outputs": [
    {
     "data": {
      "text/latex": [
       "$\\displaystyle e = a * b$"
      ],
      "text/plain": [
       "<IPython.core.display.Math object>"
      ]
     },
     "metadata": {},
     "output_type": "display_data"
    },
    {
     "data": {
      "text/latex": [
       "$\\displaystyle \\frac {dL} {da} = \\frac {dL} {de} * \\frac {de} {da}$"
      ],
      "text/plain": [
       "<IPython.core.display.Math object>"
      ]
     },
     "metadata": {},
     "output_type": "display_data"
    },
    {
     "data": {
      "text/latex": [
       "$\\displaystyle \\frac {dL} {db} = \\frac {dL} {de} * \\frac {de} {db}$"
      ],
      "text/plain": [
       "<IPython.core.display.Math object>"
      ]
     },
     "metadata": {},
     "output_type": "display_data"
    }
   ],
   "source": [
    "display(Math(r\"e = a * b\"))\n",
    "display(Math(r\"\\frac {dL} {da} = \\frac {dL} {de} * \\frac {de} {da}\"))\n",
    "display(Math(r\"\\frac {dL} {db} = \\frac {dL} {de} * \\frac {de} {db}\"))"
   ]
  },
  {
   "cell_type": "code",
   "execution_count": 155,
   "id": "afcf1957-cc65-4685-a947-c2c3358ea235",
   "metadata": {
    "execution": {
     "iopub.execute_input": "2023-04-09T13:42:52.570223Z",
     "iopub.status.busy": "2023-04-09T13:42:52.569426Z",
     "iopub.status.idle": "2023-04-09T13:42:52.574208Z",
     "shell.execute_reply": "2023-04-09T13:42:52.573212Z",
     "shell.execute_reply.started": "2023-04-09T13:42:52.570194Z"
    }
   },
   "outputs": [],
   "source": [
    "a.grad = e.grad * b.data\n",
    "b.grad = e.grad * a.data"
   ]
  },
  {
   "cell_type": "markdown",
   "id": "6748854a-6fae-404d-99f2-6305914ebf23",
   "metadata": {},
   "source": [
    "That's what back propagation is, just a recursive application of chain rule backwards through the computation graph.\n",
    "\n",
    "Let's see this power in action just very briefly. What we're going to do is we're going to nudge our inputs to try to make `L` go up."
   ]
  },
  {
   "cell_type": "code",
   "execution_count": 156,
   "id": "fc3d14c8-f7c4-41f0-8e70-c151a0cc63c0",
   "metadata": {
    "execution": {
     "iopub.execute_input": "2023-04-09T13:42:58.683788Z",
     "iopub.status.busy": "2023-04-09T13:42:58.682950Z",
     "iopub.status.idle": "2023-04-09T13:42:58.693981Z",
     "shell.execute_reply": "2023-04-09T13:42:58.692644Z",
     "shell.execute_reply.started": "2023-04-09T13:42:58.683747Z"
    }
   },
   "outputs": [],
   "source": [
    "a.data += 0.01 * a.grad\n",
    "b.data += 0.01 * b.grad\n",
    "c.data += 0.01 * c.grad\n",
    "f.data += 0.01 * f.grad\n",
    "\n",
    "# run the forward pass again\n",
    "e = a * b\n",
    "d = e + c\n",
    "L = d * f"
   ]
  },
  {
   "cell_type": "code",
   "execution_count": 116,
   "id": "673ad6c7-6bd9-4bb2-af7a-7e57ba0329fc",
   "metadata": {
    "execution": {
     "iopub.execute_input": "2023-04-09T13:16:15.964806Z",
     "iopub.status.busy": "2023-04-09T13:16:15.964186Z",
     "iopub.status.idle": "2023-04-09T13:16:16.009397Z",
     "shell.execute_reply": "2023-04-09T13:16:16.008702Z",
     "shell.execute_reply.started": "2023-04-09T13:16:15.964777Z"
    }
   },
   "outputs": [
    {
     "data": {
      "image/jpeg": "[encoded data removed]",
      "text/plain": [
       "<IPython.core.display.Image object>"
      ]
     },
     "execution_count": 116,
     "metadata": {},
     "output_type": "execute_result"
    }
   ],
   "source": [
    "from IPython import display\n",
    "display.Image(\"https://cs231n.github.io/assets/nn1/neuron_model.jpeg\")"
   ]
  },
  {
   "cell_type": "markdown",
   "id": "cdeeb75a-b4eb-4fb6-a06e-65d30a27c133",
   "metadata": {},
   "source": [
    "So we want to eventually build up neural networks and in the simplest case these are multilateral perceptrons. This is a two layer neural net and it's got these hidden layers made up of neurons and these neurons are fully connected to each other. Biological neurons are very complicated devices but we have very simple mathematical models of a neuron, you have some inputs axis and then you have these synapses that have weights on them, the w's are weights and then the synapse interacts with the input to. \n",
    "\n",
    "This neuron multiplicative so what flows to the cell body of this neuron is w times x but there's multiple inputs so there's many w times x's flowing into the cell body. The cell body has also like some bias so this is kind of like the inert innate sort of trigger (happiness) of this neuron so this bias can make it a bit more trigger happy or a bit less trigger happy regardless of the input.\n",
    "\n",
    "Basically we're taking all the w times x of all the inputs adding the bias and then we take it through an activation function and this activation function is usually some kind of a squashing function like a sigmoid or tanh."
   ]
  },
  {
   "cell_type": "code",
   "execution_count": 117,
   "id": "ca04931b-26d8-4f57-94ff-217810783524",
   "metadata": {
    "execution": {
     "iopub.execute_input": "2023-04-09T13:27:10.746071Z",
     "iopub.status.busy": "2023-04-09T13:27:10.745199Z",
     "iopub.status.idle": "2023-04-09T13:27:10.980638Z",
     "shell.execute_reply": "2023-04-09T13:27:10.979855Z",
     "shell.execute_reply.started": "2023-04-09T13:27:10.746042Z"
    }
   },
   "outputs": [
    {
     "data": {
      "image/png": "[encoded data removed]",
      "text/plain": [
       "<Figure size 640x480 with 1 Axes>"
      ]
     },
     "metadata": {},
     "output_type": "display_data"
    }
   ],
   "source": [
    "plt.plot(np.arange(-5,5,0.2), np.tanh(np.arange(-5,5,0.2))); plt.grid();"
   ]
  },
  {
   "cell_type": "code",
   "execution_count": 158,
   "id": "b879be7b-b5ee-4b32-b5fb-be91a224216b",
   "metadata": {
    "execution": {
     "iopub.execute_input": "2023-04-09T13:43:31.459580Z",
     "iopub.status.busy": "2023-04-09T13:43:31.459221Z",
     "iopub.status.idle": "2023-04-09T13:43:31.466033Z",
     "shell.execute_reply": "2023-04-09T13:43:31.464902Z",
     "shell.execute_reply.started": "2023-04-09T13:43:31.459551Z"
    }
   },
   "outputs": [],
   "source": [
    "# inputs x1,x2\n",
    "x1 = Value(2.0, label='x1')\n",
    "x2 = Value(0.0, label='x2')\n",
    "# weights w1,w2\n",
    "w1 = Value(-3.0, label='w1')\n",
    "w2 = Value(1.0, label='w2')\n",
    "# bias of the neuron\n",
    "b = Value(6.8813735870195432, label='b')\n",
    "# x1*w1 + x2*w2 + b\n",
    "x1w1 = x1*w1; x1w1.label = 'x1*w1'\n",
    "x2w2 = x2*w2; x2w2.label = 'x2*w2'\n",
    "x1w1x2w2 = x1w1 + x2w2; x1w1x2w2.label = 'x1*w1 + x2*w2'\n",
    "n = x1w1x2w2 + b; n.label = 'n'\n",
    "o = n.tanh(); o.label = 'o'"
   ]
  },
  {
   "cell_type": "code",
   "execution_count": 161,
   "id": "01e310bd-d093-477c-a112-29dbad719cdd",
   "metadata": {
    "execution": {
     "iopub.execute_input": "2023-04-09T13:43:46.474363Z",
     "iopub.status.busy": "2023-04-09T13:43:46.473700Z",
     "iopub.status.idle": "2023-04-09T13:43:46.500728Z",
     "shell.execute_reply": "2023-04-09T13:43:46.499440Z",
     "shell.execute_reply.started": "2023-04-09T13:43:46.474335Z"
    }
   },
   "outputs": [
    {
     "data": {
      "image/svg+xml": [
       "<?xml version=\"1.0\" encoding=\"UTF-8\" standalone=\"no\"?>\n",
       "<!DOCTYPE svg PUBLIC \"-//W3C//DTD SVG 1.1//EN\"\n",
       " \"http://www.w3.org/Graphics/SVG/1.1/DTD/svg11.dtd\">\n",
       "<!-- Generated by graphviz version 2.43.0 (0)\n",
       " -->\n",
       "<!-- Title: %3 Pages: 1 -->\n",
       "<svg width=\"1846pt\" height=\"210pt\"\n",
       " viewBox=\"0.00 0.00 1845.69 210.00\" xmlns=\"http://www.w3.org/2000/svg\" xmlns:xlink=\"http://www.w3.org/1999/xlink\">\n",
       "<g id=\"graph0\" class=\"graph\" transform=\"scale(1 1) rotate(0) translate(4 206)\">\n",
       "<title>%3</title>\n",
       "<polygon fill=\"white\" stroke=\"transparent\" points=\"-4,4 -4,-206 1841.69,-206 1841.69,4 -4,4\"/>\n",
       "<!-- 139733671569920 -->\n",
       "<g id=\"node1\" class=\"node\">\n",
       "<title>139733671569920</title>\n",
       "<polygon fill=\"none\" stroke=\"black\" points=\"1239,-54.5 1239,-90.5 1471,-90.5 1471,-54.5 1239,-54.5\"/>\n",
       "<text text-anchor=\"middle\" x=\"1252\" y=\"-68.8\" font-family=\"Times,serif\" font-size=\"14.00\">n</text>\n",
       "<polyline fill=\"none\" stroke=\"black\" points=\"1265,-54.5 1265,-90.5 \"/>\n",
       "<text text-anchor=\"middle\" x=\"1316\" y=\"-68.8\" font-family=\"Times,serif\" font-size=\"14.00\">data 0.8814</text>\n",
       "<polyline fill=\"none\" stroke=\"black\" points=\"1367,-54.5 1367,-90.5 \"/>\n",
       "<text text-anchor=\"middle\" x=\"1419\" y=\"-68.8\" font-family=\"Times,serif\" font-size=\"14.00\">grad 0.5000</text>\n",
       "</g>\n",
       "<!-- 139733671568912tanh -->\n",
       "<g id=\"node4\" class=\"node\">\n",
       "<title>139733671568912tanh</title>\n",
       "<ellipse fill=\"none\" stroke=\"black\" cx=\"1538.85\" cy=\"-72.5\" rx=\"31.7\" ry=\"18\"/>\n",
       "<text text-anchor=\"middle\" x=\"1538.85\" y=\"-68.8\" font-family=\"Times,serif\" font-size=\"14.00\">tanh</text>\n",
       "</g>\n",
       "<!-- 139733671569920&#45;&gt;139733671568912tanh -->\n",
       "<g id=\"edge14\" class=\"edge\">\n",
       "<title>139733671569920&#45;&gt;139733671568912tanh</title>\n",
       "<path fill=\"none\" stroke=\"black\" d=\"M1471.17,-72.5C1480.08,-72.5 1488.66,-72.5 1496.53,-72.5\"/>\n",
       "<polygon fill=\"black\" stroke=\"black\" points=\"1496.78,-76 1506.78,-72.5 1496.78,-69 1496.78,-76\"/>\n",
       "</g>\n",
       "<!-- 139733671569920+ -->\n",
       "<g id=\"node2\" class=\"node\">\n",
       "<title>139733671569920+</title>\n",
       "<ellipse fill=\"none\" stroke=\"black\" cx=\"1176\" cy=\"-72.5\" rx=\"27\" ry=\"18\"/>\n",
       "<text text-anchor=\"middle\" x=\"1176\" y=\"-68.8\" font-family=\"Times,serif\" font-size=\"14.00\">+</text>\n",
       "</g>\n",
       "<!-- 139733671569920+&#45;&gt;139733671569920 -->\n",
       "<g id=\"edge1\" class=\"edge\">\n",
       "<title>139733671569920+&#45;&gt;139733671569920</title>\n",
       "<path fill=\"none\" stroke=\"black\" d=\"M1203.12,-72.5C1210.53,-72.5 1219.14,-72.5 1228.4,-72.5\"/>\n",
       "<polygon fill=\"black\" stroke=\"black\" points=\"1228.69,-76 1238.69,-72.5 1228.69,-69 1228.69,-76\"/>\n",
       "</g>\n",
       "<!-- 139733671568912 -->\n",
       "<g id=\"node3\" class=\"node\">\n",
       "<title>139733671568912</title>\n",
       "<polygon fill=\"none\" stroke=\"black\" points=\"1606.69,-54.5 1606.69,-90.5 1837.69,-90.5 1837.69,-54.5 1606.69,-54.5\"/>\n",
       "<text text-anchor=\"middle\" x=\"1619.19\" y=\"-68.8\" font-family=\"Times,serif\" font-size=\"14.00\">o</text>\n",
       "<polyline fill=\"none\" stroke=\"black\" points=\"1631.69,-54.5 1631.69,-90.5 \"/>\n",
       "<text text-anchor=\"middle\" x=\"1682.69\" y=\"-68.8\" font-family=\"Times,serif\" font-size=\"14.00\">data 0.7071</text>\n",
       "<polyline fill=\"none\" stroke=\"black\" points=\"1733.69,-54.5 1733.69,-90.5 \"/>\n",
       "<text text-anchor=\"middle\" x=\"1785.69\" y=\"-68.8\" font-family=\"Times,serif\" font-size=\"14.00\">grad 1.0000</text>\n",
       "</g>\n",
       "<!-- 139733671568912tanh&#45;&gt;139733671568912 -->\n",
       "<g id=\"edge2\" class=\"edge\">\n",
       "<title>139733671568912tanh&#45;&gt;139733671568912</title>\n",
       "<path fill=\"none\" stroke=\"black\" d=\"M1571.02,-72.5C1578.61,-72.5 1587.19,-72.5 1596.31,-72.5\"/>\n",
       "<polygon fill=\"black\" stroke=\"black\" points=\"1596.4,-76 1606.4,-72.5 1596.4,-69 1596.4,-76\"/>\n",
       "</g>\n",
       "<!-- 139733671437888 -->\n",
       "<g id=\"node5\" class=\"node\">\n",
       "<title>139733671437888</title>\n",
       "<polygon fill=\"none\" stroke=\"black\" points=\"774,-82.5 774,-118.5 1113,-118.5 1113,-82.5 774,-82.5\"/>\n",
       "<text text-anchor=\"middle\" x=\"838\" y=\"-96.8\" font-family=\"Times,serif\" font-size=\"14.00\">x1*w1 + x2*w2</text>\n",
       "<polyline fill=\"none\" stroke=\"black\" points=\"902,-82.5 902,-118.5 \"/>\n",
       "<text text-anchor=\"middle\" x=\"955.5\" y=\"-96.8\" font-family=\"Times,serif\" font-size=\"14.00\">data &#45;6.0000</text>\n",
       "<polyline fill=\"none\" stroke=\"black\" points=\"1009,-82.5 1009,-118.5 \"/>\n",
       "<text text-anchor=\"middle\" x=\"1061\" y=\"-96.8\" font-family=\"Times,serif\" font-size=\"14.00\">grad 0.5000</text>\n",
       "</g>\n",
       "<!-- 139733671437888&#45;&gt;139733671569920+ -->\n",
       "<g id=\"edge8\" class=\"edge\">\n",
       "<title>139733671437888&#45;&gt;139733671569920+</title>\n",
       "<path fill=\"none\" stroke=\"black\" d=\"M1092.76,-82.49C1109.86,-80.41 1125.9,-78.46 1139.2,-76.85\"/>\n",
       "<polygon fill=\"black\" stroke=\"black\" points=\"1139.74,-80.31 1149.24,-75.63 1138.89,-73.36 1139.74,-80.31\"/>\n",
       "</g>\n",
       "<!-- 139733671437888+ -->\n",
       "<g id=\"node6\" class=\"node\">\n",
       "<title>139733671437888+</title>\n",
       "<ellipse fill=\"none\" stroke=\"black\" cx=\"711\" cy=\"-100.5\" rx=\"27\" ry=\"18\"/>\n",
       "<text text-anchor=\"middle\" x=\"711\" y=\"-96.8\" font-family=\"Times,serif\" font-size=\"14.00\">+</text>\n",
       "</g>\n",
       "<!-- 139733671437888+&#45;&gt;139733671437888 -->\n",
       "<g id=\"edge3\" class=\"edge\">\n",
       "<title>139733671437888+&#45;&gt;139733671437888</title>\n",
       "<path fill=\"none\" stroke=\"black\" d=\"M738.44,-100.5C745.81,-100.5 754.42,-100.5 763.84,-100.5\"/>\n",
       "<polygon fill=\"black\" stroke=\"black\" points=\"763.94,-104 773.94,-100.5 763.94,-97 763.94,-104\"/>\n",
       "</g>\n",
       "<!-- 139733671439472 -->\n",
       "<g id=\"node7\" class=\"node\">\n",
       "<title>139733671439472</title>\n",
       "<polygon fill=\"none\" stroke=\"black\" points=\"0,-165.5 0,-201.5 249,-201.5 249,-165.5 0,-165.5\"/>\n",
       "<text text-anchor=\"middle\" x=\"19\" y=\"-179.8\" font-family=\"Times,serif\" font-size=\"14.00\">w1</text>\n",
       "<polyline fill=\"none\" stroke=\"black\" points=\"38,-165.5 38,-201.5 \"/>\n",
       "<text text-anchor=\"middle\" x=\"91.5\" y=\"-179.8\" font-family=\"Times,serif\" font-size=\"14.00\">data &#45;3.0000</text>\n",
       "<polyline fill=\"none\" stroke=\"black\" points=\"145,-165.5 145,-201.5 \"/>\n",
       "<text text-anchor=\"middle\" x=\"197\" y=\"-179.8\" font-family=\"Times,serif\" font-size=\"14.00\">grad 1.0000</text>\n",
       "</g>\n",
       "<!-- 139733671438512* -->\n",
       "<g id=\"node9\" class=\"node\">\n",
       "<title>139733671438512*</title>\n",
       "<ellipse fill=\"none\" stroke=\"black\" cx=\"312\" cy=\"-128.5\" rx=\"27\" ry=\"18\"/>\n",
       "<text text-anchor=\"middle\" x=\"312\" y=\"-124.8\" font-family=\"Times,serif\" font-size=\"14.00\">*</text>\n",
       "</g>\n",
       "<!-- 139733671439472&#45;&gt;139733671438512* -->\n",
       "<g id=\"edge11\" class=\"edge\">\n",
       "<title>139733671439472&#45;&gt;139733671438512*</title>\n",
       "<path fill=\"none\" stroke=\"black\" d=\"M218.13,-165.46C228.63,-162.77 239.1,-159.78 249,-156.5 259.71,-152.96 271.05,-148.16 281.07,-143.54\"/>\n",
       "<polygon fill=\"black\" stroke=\"black\" points=\"282.67,-146.66 290.2,-139.21 279.67,-140.33 282.67,-146.66\"/>\n",
       "</g>\n",
       "<!-- 139733671438512 -->\n",
       "<g id=\"node8\" class=\"node\">\n",
       "<title>139733671438512</title>\n",
       "<polygon fill=\"none\" stroke=\"black\" points=\"375,-110.5 375,-146.5 648,-146.5 648,-110.5 375,-110.5\"/>\n",
       "<text text-anchor=\"middle\" x=\"406\" y=\"-124.8\" font-family=\"Times,serif\" font-size=\"14.00\">x1*w1</text>\n",
       "<polyline fill=\"none\" stroke=\"black\" points=\"437,-110.5 437,-146.5 \"/>\n",
       "<text text-anchor=\"middle\" x=\"490.5\" y=\"-124.8\" font-family=\"Times,serif\" font-size=\"14.00\">data &#45;6.0000</text>\n",
       "<polyline fill=\"none\" stroke=\"black\" points=\"544,-110.5 544,-146.5 \"/>\n",
       "<text text-anchor=\"middle\" x=\"596\" y=\"-124.8\" font-family=\"Times,serif\" font-size=\"14.00\">grad 0.5000</text>\n",
       "</g>\n",
       "<!-- 139733671438512&#45;&gt;139733671437888+ -->\n",
       "<g id=\"edge13\" class=\"edge\">\n",
       "<title>139733671438512&#45;&gt;139733671437888+</title>\n",
       "<path fill=\"none\" stroke=\"black\" d=\"M639.53,-110.49C652.09,-108.71 663.99,-107.02 674.3,-105.56\"/>\n",
       "<polygon fill=\"black\" stroke=\"black\" points=\"675.03,-108.99 684.44,-104.12 674.05,-102.06 675.03,-108.99\"/>\n",
       "</g>\n",
       "<!-- 139733671438512*&#45;&gt;139733671438512 -->\n",
       "<g id=\"edge4\" class=\"edge\">\n",
       "<title>139733671438512*&#45;&gt;139733671438512</title>\n",
       "<path fill=\"none\" stroke=\"black\" d=\"M339.23,-128.5C346.7,-128.5 355.41,-128.5 364.87,-128.5\"/>\n",
       "<polygon fill=\"black\" stroke=\"black\" points=\"364.98,-132 374.98,-128.5 364.98,-125 364.98,-132\"/>\n",
       "</g>\n",
       "<!-- 139733671438608 -->\n",
       "<g id=\"node10\" class=\"node\">\n",
       "<title>139733671438608</title>\n",
       "<polygon fill=\"none\" stroke=\"black\" points=\"4.5,-55.5 4.5,-91.5 244.5,-91.5 244.5,-55.5 4.5,-55.5\"/>\n",
       "<text text-anchor=\"middle\" x=\"21.5\" y=\"-69.8\" font-family=\"Times,serif\" font-size=\"14.00\">x2</text>\n",
       "<polyline fill=\"none\" stroke=\"black\" points=\"38.5,-55.5 38.5,-91.5 \"/>\n",
       "<text text-anchor=\"middle\" x=\"89.5\" y=\"-69.8\" font-family=\"Times,serif\" font-size=\"14.00\">data 0.0000</text>\n",
       "<polyline fill=\"none\" stroke=\"black\" points=\"140.5,-55.5 140.5,-91.5 \"/>\n",
       "<text text-anchor=\"middle\" x=\"192.5\" y=\"-69.8\" font-family=\"Times,serif\" font-size=\"14.00\">grad 0.5000</text>\n",
       "</g>\n",
       "<!-- 139733671439760* -->\n",
       "<g id=\"node14\" class=\"node\">\n",
       "<title>139733671439760*</title>\n",
       "<ellipse fill=\"none\" stroke=\"black\" cx=\"312\" cy=\"-73.5\" rx=\"27\" ry=\"18\"/>\n",
       "<text text-anchor=\"middle\" x=\"312\" y=\"-69.8\" font-family=\"Times,serif\" font-size=\"14.00\">*</text>\n",
       "</g>\n",
       "<!-- 139733671438608&#45;&gt;139733671439760* -->\n",
       "<g id=\"edge10\" class=\"edge\">\n",
       "<title>139733671438608&#45;&gt;139733671439760*</title>\n",
       "<path fill=\"none\" stroke=\"black\" d=\"M244.55,-73.5C255.31,-73.5 265.54,-73.5 274.62,-73.5\"/>\n",
       "<polygon fill=\"black\" stroke=\"black\" points=\"274.7,-77 284.7,-73.5 274.7,-70 274.7,-77\"/>\n",
       "</g>\n",
       "<!-- 139733671439184 -->\n",
       "<g id=\"node11\" class=\"node\">\n",
       "<title>139733671439184</title>\n",
       "<polygon fill=\"none\" stroke=\"black\" points=\"827.5,-27.5 827.5,-63.5 1059.5,-63.5 1059.5,-27.5 827.5,-27.5\"/>\n",
       "<text text-anchor=\"middle\" x=\"840.5\" y=\"-41.8\" font-family=\"Times,serif\" font-size=\"14.00\">b</text>\n",
       "<polyline fill=\"none\" stroke=\"black\" points=\"853.5,-27.5 853.5,-63.5 \"/>\n",
       "<text text-anchor=\"middle\" x=\"904.5\" y=\"-41.8\" font-family=\"Times,serif\" font-size=\"14.00\">data 6.8814</text>\n",
       "<polyline fill=\"none\" stroke=\"black\" points=\"955.5,-27.5 955.5,-63.5 \"/>\n",
       "<text text-anchor=\"middle\" x=\"1007.5\" y=\"-41.8\" font-family=\"Times,serif\" font-size=\"14.00\">grad 0.5000</text>\n",
       "</g>\n",
       "<!-- 139733671439184&#45;&gt;139733671569920+ -->\n",
       "<g id=\"edge7\" class=\"edge\">\n",
       "<title>139733671439184&#45;&gt;139733671569920+</title>\n",
       "<path fill=\"none\" stroke=\"black\" d=\"M1059.75,-59C1088.57,-62.38 1117.4,-65.75 1139.01,-68.28\"/>\n",
       "<polygon fill=\"black\" stroke=\"black\" points=\"1138.67,-71.77 1149.01,-69.46 1139.48,-64.82 1138.67,-71.77\"/>\n",
       "</g>\n",
       "<!-- 139733671438704 -->\n",
       "<g id=\"node12\" class=\"node\">\n",
       "<title>139733671438704</title>\n",
       "<polygon fill=\"none\" stroke=\"black\" points=\"2.5,-110.5 2.5,-146.5 246.5,-146.5 246.5,-110.5 2.5,-110.5\"/>\n",
       "<text text-anchor=\"middle\" x=\"19.5\" y=\"-124.8\" font-family=\"Times,serif\" font-size=\"14.00\">x1</text>\n",
       "<polyline fill=\"none\" stroke=\"black\" points=\"36.5,-110.5 36.5,-146.5 \"/>\n",
       "<text text-anchor=\"middle\" x=\"87.5\" y=\"-124.8\" font-family=\"Times,serif\" font-size=\"14.00\">data 2.0000</text>\n",
       "<polyline fill=\"none\" stroke=\"black\" points=\"138.5,-110.5 138.5,-146.5 \"/>\n",
       "<text text-anchor=\"middle\" x=\"192.5\" y=\"-124.8\" font-family=\"Times,serif\" font-size=\"14.00\">grad &#45;1.5000</text>\n",
       "</g>\n",
       "<!-- 139733671438704&#45;&gt;139733671438512* -->\n",
       "<g id=\"edge12\" class=\"edge\">\n",
       "<title>139733671438704&#45;&gt;139733671438512*</title>\n",
       "<path fill=\"none\" stroke=\"black\" d=\"M246.64,-128.5C256.7,-128.5 266.26,-128.5 274.79,-128.5\"/>\n",
       "<polygon fill=\"black\" stroke=\"black\" points=\"275,-132 285,-128.5 275,-125 275,-132\"/>\n",
       "</g>\n",
       "<!-- 139733671439760 -->\n",
       "<g id=\"node13\" class=\"node\">\n",
       "<title>139733671439760</title>\n",
       "<polygon fill=\"none\" stroke=\"black\" points=\"377.5,-55.5 377.5,-91.5 645.5,-91.5 645.5,-55.5 377.5,-55.5\"/>\n",
       "<text text-anchor=\"middle\" x=\"408.5\" y=\"-69.8\" font-family=\"Times,serif\" font-size=\"14.00\">x2*w2</text>\n",
       "<polyline fill=\"none\" stroke=\"black\" points=\"439.5,-55.5 439.5,-91.5 \"/>\n",
       "<text text-anchor=\"middle\" x=\"490.5\" y=\"-69.8\" font-family=\"Times,serif\" font-size=\"14.00\">data 0.0000</text>\n",
       "<polyline fill=\"none\" stroke=\"black\" points=\"541.5,-55.5 541.5,-91.5 \"/>\n",
       "<text text-anchor=\"middle\" x=\"593.5\" y=\"-69.8\" font-family=\"Times,serif\" font-size=\"14.00\">grad 0.5000</text>\n",
       "</g>\n",
       "<!-- 139733671439760&#45;&gt;139733671437888+ -->\n",
       "<g id=\"edge9\" class=\"edge\">\n",
       "<title>139733671439760&#45;&gt;139733671437888+</title>\n",
       "<path fill=\"none\" stroke=\"black\" d=\"M644.24,-91.51C655.12,-93 665.4,-94.4 674.45,-95.64\"/>\n",
       "<polygon fill=\"black\" stroke=\"black\" points=\"674.11,-99.13 684.49,-97.01 675.05,-92.19 674.11,-99.13\"/>\n",
       "</g>\n",
       "<!-- 139733671439760*&#45;&gt;139733671439760 -->\n",
       "<g id=\"edge5\" class=\"edge\">\n",
       "<title>139733671439760*&#45;&gt;139733671439760</title>\n",
       "<path fill=\"none\" stroke=\"black\" d=\"M339.23,-73.5C347.26,-73.5 356.72,-73.5 366.99,-73.5\"/>\n",
       "<polygon fill=\"black\" stroke=\"black\" points=\"367.08,-77 377.08,-73.5 367.08,-70 367.08,-77\"/>\n",
       "</g>\n",
       "<!-- 139733671438320 -->\n",
       "<g id=\"node15\" class=\"node\">\n",
       "<title>139733671438320</title>\n",
       "<polygon fill=\"none\" stroke=\"black\" points=\"2.5,-0.5 2.5,-36.5 246.5,-36.5 246.5,-0.5 2.5,-0.5\"/>\n",
       "<text text-anchor=\"middle\" x=\"21.5\" y=\"-14.8\" font-family=\"Times,serif\" font-size=\"14.00\">w2</text>\n",
       "<polyline fill=\"none\" stroke=\"black\" points=\"40.5,-0.5 40.5,-36.5 \"/>\n",
       "<text text-anchor=\"middle\" x=\"91.5\" y=\"-14.8\" font-family=\"Times,serif\" font-size=\"14.00\">data 1.0000</text>\n",
       "<polyline fill=\"none\" stroke=\"black\" points=\"142.5,-0.5 142.5,-36.5 \"/>\n",
       "<text text-anchor=\"middle\" x=\"194.5\" y=\"-14.8\" font-family=\"Times,serif\" font-size=\"14.00\">grad 0.0000</text>\n",
       "</g>\n",
       "<!-- 139733671438320&#45;&gt;139733671439760* -->\n",
       "<g id=\"edge6\" class=\"edge\">\n",
       "<title>139733671438320&#45;&gt;139733671439760*</title>\n",
       "<path fill=\"none\" stroke=\"black\" d=\"M218.13,-36.54C228.63,-39.23 239.1,-42.22 249,-45.5 259.71,-49.04 271.05,-53.84 281.07,-58.46\"/>\n",
       "<polygon fill=\"black\" stroke=\"black\" points=\"279.67,-61.67 290.2,-62.79 282.67,-55.34 279.67,-61.67\"/>\n",
       "</g>\n",
       "</g>\n",
       "</svg>\n"
      ],
      "text/plain": [
       "<graphviz.graphs.Digraph at 0x7f1647d96610>"
      ]
     },
     "execution_count": 161,
     "metadata": {},
     "output_type": "execute_result"
    }
   ],
   "source": [
    "draw_dot(o)"
   ]
  },
  {
   "cell_type": "code",
   "execution_count": 129,
   "id": "1a672520-eec4-4743-9427-37e49278cce7",
   "metadata": {
    "execution": {
     "iopub.execute_input": "2023-04-09T13:36:14.739051Z",
     "iopub.status.busy": "2023-04-09T13:36:14.738385Z",
     "iopub.status.idle": "2023-04-09T13:36:14.746083Z",
     "shell.execute_reply": "2023-04-09T13:36:14.745147Z",
     "shell.execute_reply.started": "2023-04-09T13:36:14.739023Z"
    }
   },
   "outputs": [
    {
     "data": {
      "text/latex": [
       "$\\displaystyle o = tanh(n)$"
      ],
      "text/plain": [
       "<IPython.core.display.Math object>"
      ]
     },
     "metadata": {},
     "output_type": "display_data"
    },
    {
     "data": {
      "text/latex": [
       "$\\displaystyle \\frac {do} {dn} = 1 - tanh(n)^2$"
      ],
      "text/plain": [
       "<IPython.core.display.Math object>"
      ]
     },
     "metadata": {},
     "output_type": "display_data"
    },
    {
     "data": {
      "text/latex": [
       "$\\displaystyle \\frac {do} {dn} = 1 - o^2$"
      ],
      "text/plain": [
       "<IPython.core.display.Math object>"
      ]
     },
     "metadata": {},
     "output_type": "display_data"
    }
   ],
   "source": [
    "display(Math(r\"o = tanh(n)\"))\n",
    "display(Math(r\"\\frac {do} {dn} = 1 - tanh(n)^2\"))\n",
    "display(Math(r\"\\frac {do} {dn} = 1 - o^2\"))"
   ]
  },
  {
   "cell_type": "markdown",
   "id": "2723120e-83ca-43c4-ba55-8d88291c6c55",
   "metadata": {},
   "source": [
    "Let's get rid of doing backpropagation manually by implementing the `backward` function for a whole expression graph. We have to make sure that the backward function calculates the gradients of a node only after calculating the gradients of all the nodes ahead of it in the graph. To do this we'll do a topological sort on the graph.\n",
    "\n",
    "```\n",
    "topo = []\n",
    "visited = set()\n",
    "def build_topo(v):\n",
    "  if v not in visited:\n",
    "    visited.add(v)\n",
    "    for child in v._prev:\n",
    "      build_topo(child)\n",
    "    topo.append(v)\n",
    "build_topo(o)\n",
    "topo\n",
    "```"
   ]
  },
  {
   "cell_type": "code",
   "execution_count": 160,
   "id": "2add841c-49ec-4ca9-8961-e7e114ac75e0",
   "metadata": {
    "execution": {
     "iopub.execute_input": "2023-04-09T13:43:39.696957Z",
     "iopub.status.busy": "2023-04-09T13:43:39.695923Z",
     "iopub.status.idle": "2023-04-09T13:43:39.701024Z",
     "shell.execute_reply": "2023-04-09T13:43:39.700159Z",
     "shell.execute_reply.started": "2023-04-09T13:43:39.696903Z"
    }
   },
   "outputs": [],
   "source": [
    "o.backward()"
   ]
  },
  {
   "cell_type": "code",
   "execution_count": 173,
   "id": "194cf0bd-207f-4c78-99fd-73e9945c0974",
   "metadata": {
    "execution": {
     "iopub.execute_input": "2023-04-09T14:20:05.853396Z",
     "iopub.status.busy": "2023-04-09T14:20:05.852718Z",
     "iopub.status.idle": "2023-04-09T14:20:05.858460Z",
     "shell.execute_reply": "2023-04-09T14:20:05.857798Z",
     "shell.execute_reply.started": "2023-04-09T14:20:05.853366Z"
    }
   },
   "outputs": [],
   "source": [
    "# inputs x1,x2\n",
    "x1 = Value(2.0, label='x1')\n",
    "x2 = Value(0.0, label='x2')\n",
    "# weights w1,w2\n",
    "w1 = Value(-3.0, label='w1')\n",
    "w2 = Value(1.0, label='w2')\n",
    "# bias of the neuron\n",
    "b = Value(6.8813735870195432, label='b')\n",
    "# x1*w1 + x2*w2 + b\n",
    "x1w1 = x1*w1; x1w1.label = 'x1*w1'\n",
    "x2w2 = x2*w2; x2w2.label = 'x2*w2'\n",
    "x1w1x2w2 = x1w1 + x2w2; x1w1x2w2.label = 'x1*w1 + x2*w2'\n",
    "n = x1w1x2w2 + b; n.label = 'n'\n",
    "# ----\n",
    "e = (2*n).exp()\n",
    "o = (e - 1) / (e + 1)\n",
    "# ----\n",
    "o.label = 'o'"
   ]
  },
  {
   "cell_type": "code",
   "execution_count": 174,
   "id": "c1427a97-3740-46cb-ba30-b1874cbd15a4",
   "metadata": {
    "execution": {
     "iopub.execute_input": "2023-04-09T14:20:07.619447Z",
     "iopub.status.busy": "2023-04-09T14:20:07.618817Z",
     "iopub.status.idle": "2023-04-09T14:20:07.622768Z",
     "shell.execute_reply": "2023-04-09T14:20:07.622153Z",
     "shell.execute_reply.started": "2023-04-09T14:20:07.619419Z"
    }
   },
   "outputs": [],
   "source": [
    "o.backward()"
   ]
  },
  {
   "cell_type": "code",
   "execution_count": 175,
   "id": "3ac9e1a5-fe10-43c3-a526-52e489a5d523",
   "metadata": {
    "execution": {
     "iopub.execute_input": "2023-04-09T14:20:10.037853Z",
     "iopub.status.busy": "2023-04-09T14:20:10.037237Z",
     "iopub.status.idle": "2023-04-09T14:20:10.064135Z",
     "shell.execute_reply": "2023-04-09T14:20:10.063271Z",
     "shell.execute_reply.started": "2023-04-09T14:20:10.037827Z"
    }
   },
   "outputs": [
    {
     "data": {
      "image/svg+xml": [
       "<?xml version=\"1.0\" encoding=\"UTF-8\" standalone=\"no\"?>\n",
       "<!DOCTYPE svg PUBLIC \"-//W3C//DTD SVG 1.1//EN\"\n",
       " \"http://www.w3.org/Graphics/SVG/1.1/DTD/svg11.dtd\">\n",
       "<!-- Generated by graphviz version 2.43.0 (0)\n",
       " -->\n",
       "<!-- Title: %3 Pages: 1 -->\n",
       "<svg width=\"3431pt\" height=\"210pt\"\n",
       " viewBox=\"0.00 0.00 3430.60 210.00\" xmlns=\"http://www.w3.org/2000/svg\" xmlns:xlink=\"http://www.w3.org/1999/xlink\">\n",
       "<g id=\"graph0\" class=\"graph\" transform=\"scale(1 1) rotate(0) translate(4 206)\">\n",
       "<title>%3</title>\n",
       "<polygon fill=\"white\" stroke=\"transparent\" points=\"-4,4 -4,-206 3426.6,-206 3426.6,4 -4,4\"/>\n",
       "<!-- 139733671377408 -->\n",
       "<g id=\"node1\" class=\"node\">\n",
       "<title>139733671377408</title>\n",
       "<polygon fill=\"none\" stroke=\"black\" points=\"1597,-81.5 1597,-117.5 1824,-117.5 1824,-81.5 1597,-81.5\"/>\n",
       "<text text-anchor=\"middle\" x=\"1607.5\" y=\"-95.8\" font-family=\"Times,serif\" font-size=\"14.00\"> </text>\n",
       "<polyline fill=\"none\" stroke=\"black\" points=\"1618,-81.5 1618,-117.5 \"/>\n",
       "<text text-anchor=\"middle\" x=\"1669\" y=\"-95.8\" font-family=\"Times,serif\" font-size=\"14.00\">data 1.7627</text>\n",
       "<polyline fill=\"none\" stroke=\"black\" points=\"1720,-81.5 1720,-117.5 \"/>\n",
       "<text text-anchor=\"middle\" x=\"1772\" y=\"-95.8\" font-family=\"Times,serif\" font-size=\"14.00\">grad 0.2500</text>\n",
       "</g>\n",
       "<!-- 139733671378704exp -->\n",
       "<g id=\"node17\" class=\"node\">\n",
       "<title>139733671378704exp</title>\n",
       "<ellipse fill=\"none\" stroke=\"black\" cx=\"1887.3\" cy=\"-99.5\" rx=\"27.1\" ry=\"18\"/>\n",
       "<text text-anchor=\"middle\" x=\"1887.3\" y=\"-95.8\" font-family=\"Times,serif\" font-size=\"14.00\">exp</text>\n",
       "</g>\n",
       "<!-- 139733671377408&#45;&gt;139733671378704exp -->\n",
       "<g id=\"edge12\" class=\"edge\">\n",
       "<title>139733671377408&#45;&gt;139733671378704exp</title>\n",
       "<path fill=\"none\" stroke=\"black\" d=\"M1824.18,-99.5C1833.26,-99.5 1841.95,-99.5 1849.79,-99.5\"/>\n",
       "<polygon fill=\"black\" stroke=\"black\" points=\"1849.93,-103 1859.93,-99.5 1849.93,-96 1849.93,-103\"/>\n",
       "</g>\n",
       "<!-- 139733671377408* -->\n",
       "<g id=\"node2\" class=\"node\">\n",
       "<title>139733671377408*</title>\n",
       "<ellipse fill=\"none\" stroke=\"black\" cx=\"1534\" cy=\"-99.5\" rx=\"27\" ry=\"18\"/>\n",
       "<text text-anchor=\"middle\" x=\"1534\" y=\"-95.8\" font-family=\"Times,serif\" font-size=\"14.00\">*</text>\n",
       "</g>\n",
       "<!-- 139733671377408*&#45;&gt;139733671377408 -->\n",
       "<g id=\"edge1\" class=\"edge\">\n",
       "<title>139733671377408*&#45;&gt;139733671377408</title>\n",
       "<path fill=\"none\" stroke=\"black\" d=\"M1561.12,-99.5C1568.67,-99.5 1577.45,-99.5 1586.9,-99.5\"/>\n",
       "<polygon fill=\"black\" stroke=\"black\" points=\"1586.95,-103 1596.95,-99.5 1586.95,-96 1586.95,-103\"/>\n",
       "</g>\n",
       "<!-- 139733667325456 -->\n",
       "<g id=\"node3\" class=\"node\">\n",
       "<title>139733667325456</title>\n",
       "<polygon fill=\"none\" stroke=\"black\" points=\"2838.6,-57.5 2838.6,-93.5 3065.6,-93.5 3065.6,-57.5 2838.6,-57.5\"/>\n",
       "<text text-anchor=\"middle\" x=\"2849.1\" y=\"-71.8\" font-family=\"Times,serif\" font-size=\"14.00\"> </text>\n",
       "<polyline fill=\"none\" stroke=\"black\" points=\"2859.6,-57.5 2859.6,-93.5 \"/>\n",
       "<text text-anchor=\"middle\" x=\"2910.6\" y=\"-71.8\" font-family=\"Times,serif\" font-size=\"14.00\">data 0.1464</text>\n",
       "<polyline fill=\"none\" stroke=\"black\" points=\"2961.6,-57.5 2961.6,-93.5 \"/>\n",
       "<text text-anchor=\"middle\" x=\"3013.6\" y=\"-71.8\" font-family=\"Times,serif\" font-size=\"14.00\">grad 4.8284</text>\n",
       "</g>\n",
       "<!-- 139733667324736* -->\n",
       "<g id=\"node22\" class=\"node\">\n",
       "<title>139733667324736*</title>\n",
       "<ellipse fill=\"none\" stroke=\"black\" cx=\"3128.6\" cy=\"-98.5\" rx=\"27\" ry=\"18\"/>\n",
       "<text text-anchor=\"middle\" x=\"3128.6\" y=\"-94.8\" font-family=\"Times,serif\" font-size=\"14.00\">*</text>\n",
       "</g>\n",
       "<!-- 139733667325456&#45;&gt;139733667324736* -->\n",
       "<g id=\"edge17\" class=\"edge\">\n",
       "<title>139733667325456&#45;&gt;139733667324736*</title>\n",
       "<path fill=\"none\" stroke=\"black\" d=\"M3066.07,-90.39C3075.17,-91.59 3083.86,-92.74 3091.69,-93.77\"/>\n",
       "<polygon fill=\"black\" stroke=\"black\" points=\"3091.43,-97.26 3101.8,-95.1 3092.34,-90.32 3091.43,-97.26\"/>\n",
       "</g>\n",
       "<!-- 139733667325456**&#45;1 -->\n",
       "<g id=\"node4\" class=\"node\">\n",
       "<title>139733667325456**&#45;1</title>\n",
       "<ellipse fill=\"none\" stroke=\"black\" cx=\"2689.1\" cy=\"-71.5\" rx=\"28.7\" ry=\"18\"/>\n",
       "<text text-anchor=\"middle\" x=\"2689.1\" y=\"-67.8\" font-family=\"Times,serif\" font-size=\"14.00\">**&#45;1</text>\n",
       "</g>\n",
       "<!-- 139733667325456**&#45;1&#45;&gt;139733667325456 -->\n",
       "<g id=\"edge2\" class=\"edge\">\n",
       "<title>139733667325456**&#45;1&#45;&gt;139733667325456</title>\n",
       "<path fill=\"none\" stroke=\"black\" d=\"M2718.03,-71.93C2744.75,-72.34 2786.99,-72.98 2828.21,-73.62\"/>\n",
       "<polygon fill=\"black\" stroke=\"black\" points=\"2828.32,-77.12 2838.37,-73.77 2828.43,-70.12 2828.32,-77.12\"/>\n",
       "</g>\n",
       "<!-- 139733671376928 -->\n",
       "<g id=\"node5\" class=\"node\">\n",
       "<title>139733671376928</title>\n",
       "<polygon fill=\"none\" stroke=\"black\" points=\"1239,-109.5 1239,-145.5 1471,-145.5 1471,-109.5 1239,-109.5\"/>\n",
       "<text text-anchor=\"middle\" x=\"1252\" y=\"-123.8\" font-family=\"Times,serif\" font-size=\"14.00\">n</text>\n",
       "<polyline fill=\"none\" stroke=\"black\" points=\"1265,-109.5 1265,-145.5 \"/>\n",
       "<text text-anchor=\"middle\" x=\"1316\" y=\"-123.8\" font-family=\"Times,serif\" font-size=\"14.00\">data 0.8814</text>\n",
       "<polyline fill=\"none\" stroke=\"black\" points=\"1367,-109.5 1367,-145.5 \"/>\n",
       "<text text-anchor=\"middle\" x=\"1419\" y=\"-123.8\" font-family=\"Times,serif\" font-size=\"14.00\">grad 0.5000</text>\n",
       "</g>\n",
       "<!-- 139733671376928&#45;&gt;139733671377408* -->\n",
       "<g id=\"edge28\" class=\"edge\">\n",
       "<title>139733671376928&#45;&gt;139733671377408*</title>\n",
       "<path fill=\"none\" stroke=\"black\" d=\"M1470.1,-109.45C1479.88,-107.9 1489.21,-106.43 1497.54,-105.11\"/>\n",
       "<polygon fill=\"black\" stroke=\"black\" points=\"1498.19,-108.55 1507.52,-103.53 1497.1,-101.64 1498.19,-108.55\"/>\n",
       "</g>\n",
       "<!-- 139733671376928+ -->\n",
       "<g id=\"node6\" class=\"node\">\n",
       "<title>139733671376928+</title>\n",
       "<ellipse fill=\"none\" stroke=\"black\" cx=\"1176\" cy=\"-127.5\" rx=\"27\" ry=\"18\"/>\n",
       "<text text-anchor=\"middle\" x=\"1176\" y=\"-123.8\" font-family=\"Times,serif\" font-size=\"14.00\">+</text>\n",
       "</g>\n",
       "<!-- 139733671376928+&#45;&gt;139733671376928 -->\n",
       "<g id=\"edge3\" class=\"edge\">\n",
       "<title>139733671376928+&#45;&gt;139733671376928</title>\n",
       "<path fill=\"none\" stroke=\"black\" d=\"M1203.12,-127.5C1210.53,-127.5 1219.14,-127.5 1228.4,-127.5\"/>\n",
       "<polygon fill=\"black\" stroke=\"black\" points=\"1228.69,-131 1238.69,-127.5 1228.69,-124 1228.69,-131\"/>\n",
       "</g>\n",
       "<!-- 139734148398144 -->\n",
       "<g id=\"node7\" class=\"node\">\n",
       "<title>139734148398144</title>\n",
       "<polygon fill=\"none\" stroke=\"black\" points=\"0,-55.5 0,-91.5 249,-91.5 249,-55.5 0,-55.5\"/>\n",
       "<text text-anchor=\"middle\" x=\"19\" y=\"-69.8\" font-family=\"Times,serif\" font-size=\"14.00\">w1</text>\n",
       "<polyline fill=\"none\" stroke=\"black\" points=\"38,-55.5 38,-91.5 \"/>\n",
       "<text text-anchor=\"middle\" x=\"91.5\" y=\"-69.8\" font-family=\"Times,serif\" font-size=\"14.00\">data &#45;3.0000</text>\n",
       "<polyline fill=\"none\" stroke=\"black\" points=\"145,-55.5 145,-91.5 \"/>\n",
       "<text text-anchor=\"middle\" x=\"197\" y=\"-69.8\" font-family=\"Times,serif\" font-size=\"14.00\">grad 1.0000</text>\n",
       "</g>\n",
       "<!-- 139734148397328* -->\n",
       "<g id=\"node19\" class=\"node\">\n",
       "<title>139734148397328*</title>\n",
       "<ellipse fill=\"none\" stroke=\"black\" cx=\"312\" cy=\"-73.5\" rx=\"27\" ry=\"18\"/>\n",
       "<text text-anchor=\"middle\" x=\"312\" y=\"-69.8\" font-family=\"Times,serif\" font-size=\"14.00\">*</text>\n",
       "</g>\n",
       "<!-- 139734148398144&#45;&gt;139734148397328* -->\n",
       "<g id=\"edge21\" class=\"edge\">\n",
       "<title>139734148398144&#45;&gt;139734148397328*</title>\n",
       "<path fill=\"none\" stroke=\"black\" d=\"M249.23,-73.5C258.37,-73.5 267.05,-73.5 274.87,-73.5\"/>\n",
       "<polygon fill=\"black\" stroke=\"black\" points=\"274.95,-77 284.95,-73.5 274.95,-70 274.95,-77\"/>\n",
       "</g>\n",
       "<!-- 139733672053344 -->\n",
       "<g id=\"node8\" class=\"node\">\n",
       "<title>139733672053344</title>\n",
       "<polygon fill=\"none\" stroke=\"black\" points=\"377.5,-110.5 377.5,-146.5 645.5,-146.5 645.5,-110.5 377.5,-110.5\"/>\n",
       "<text text-anchor=\"middle\" x=\"408.5\" y=\"-124.8\" font-family=\"Times,serif\" font-size=\"14.00\">x2*w2</text>\n",
       "<polyline fill=\"none\" stroke=\"black\" points=\"439.5,-110.5 439.5,-146.5 \"/>\n",
       "<text text-anchor=\"middle\" x=\"490.5\" y=\"-124.8\" font-family=\"Times,serif\" font-size=\"14.00\">data 0.0000</text>\n",
       "<polyline fill=\"none\" stroke=\"black\" points=\"541.5,-110.5 541.5,-146.5 \"/>\n",
       "<text text-anchor=\"middle\" x=\"593.5\" y=\"-124.8\" font-family=\"Times,serif\" font-size=\"14.00\">grad 0.5000</text>\n",
       "</g>\n",
       "<!-- 139733672052096+ -->\n",
       "<g id=\"node27\" class=\"node\">\n",
       "<title>139733672052096+</title>\n",
       "<ellipse fill=\"none\" stroke=\"black\" cx=\"711\" cy=\"-100.5\" rx=\"27\" ry=\"18\"/>\n",
       "<text text-anchor=\"middle\" x=\"711\" y=\"-96.8\" font-family=\"Times,serif\" font-size=\"14.00\">+</text>\n",
       "</g>\n",
       "<!-- 139733672053344&#45;&gt;139733672052096+ -->\n",
       "<g id=\"edge18\" class=\"edge\">\n",
       "<title>139733672053344&#45;&gt;139733672052096+</title>\n",
       "<path fill=\"none\" stroke=\"black\" d=\"M639.53,-110.49C652.09,-108.71 663.99,-107.02 674.3,-105.56\"/>\n",
       "<polygon fill=\"black\" stroke=\"black\" points=\"675.03,-108.99 684.44,-104.12 674.05,-102.06 675.03,-108.99\"/>\n",
       "</g>\n",
       "<!-- 139733672053344* -->\n",
       "<g id=\"node9\" class=\"node\">\n",
       "<title>139733672053344*</title>\n",
       "<ellipse fill=\"none\" stroke=\"black\" cx=\"312\" cy=\"-128.5\" rx=\"27\" ry=\"18\"/>\n",
       "<text text-anchor=\"middle\" x=\"312\" y=\"-124.8\" font-family=\"Times,serif\" font-size=\"14.00\">*</text>\n",
       "</g>\n",
       "<!-- 139733672053344*&#45;&gt;139733672053344 -->\n",
       "<g id=\"edge4\" class=\"edge\">\n",
       "<title>139733672053344*&#45;&gt;139733672053344</title>\n",
       "<path fill=\"none\" stroke=\"black\" d=\"M339.23,-128.5C347.26,-128.5 356.72,-128.5 366.99,-128.5\"/>\n",
       "<polygon fill=\"black\" stroke=\"black\" points=\"367.08,-132 377.08,-128.5 367.08,-125 367.08,-132\"/>\n",
       "</g>\n",
       "<!-- 139734148350640 -->\n",
       "<g id=\"node10\" class=\"node\">\n",
       "<title>139734148350640</title>\n",
       "<polygon fill=\"none\" stroke=\"black\" points=\"4.5,-165.5 4.5,-201.5 244.5,-201.5 244.5,-165.5 4.5,-165.5\"/>\n",
       "<text text-anchor=\"middle\" x=\"21.5\" y=\"-179.8\" font-family=\"Times,serif\" font-size=\"14.00\">x2</text>\n",
       "<polyline fill=\"none\" stroke=\"black\" points=\"38.5,-165.5 38.5,-201.5 \"/>\n",
       "<text text-anchor=\"middle\" x=\"89.5\" y=\"-179.8\" font-family=\"Times,serif\" font-size=\"14.00\">data 0.0000</text>\n",
       "<polyline fill=\"none\" stroke=\"black\" points=\"140.5,-165.5 140.5,-201.5 \"/>\n",
       "<text text-anchor=\"middle\" x=\"192.5\" y=\"-179.8\" font-family=\"Times,serif\" font-size=\"14.00\">grad 0.5000</text>\n",
       "</g>\n",
       "<!-- 139734148350640&#45;&gt;139733672053344* -->\n",
       "<g id=\"edge20\" class=\"edge\">\n",
       "<title>139734148350640&#45;&gt;139733672053344*</title>\n",
       "<path fill=\"none\" stroke=\"black\" d=\"M218.13,-165.46C228.63,-162.77 239.1,-159.78 249,-156.5 259.71,-152.96 271.05,-148.16 281.07,-143.54\"/>\n",
       "<polygon fill=\"black\" stroke=\"black\" points=\"282.67,-146.66 290.2,-139.21 279.67,-140.33 282.67,-146.66\"/>\n",
       "</g>\n",
       "<!-- 139734148398288 -->\n",
       "<g id=\"node11\" class=\"node\">\n",
       "<title>139734148398288</title>\n",
       "<polygon fill=\"none\" stroke=\"black\" points=\"827.5,-137.5 827.5,-173.5 1059.5,-173.5 1059.5,-137.5 827.5,-137.5\"/>\n",
       "<text text-anchor=\"middle\" x=\"840.5\" y=\"-151.8\" font-family=\"Times,serif\" font-size=\"14.00\">b</text>\n",
       "<polyline fill=\"none\" stroke=\"black\" points=\"853.5,-137.5 853.5,-173.5 \"/>\n",
       "<text text-anchor=\"middle\" x=\"904.5\" y=\"-151.8\" font-family=\"Times,serif\" font-size=\"14.00\">data 6.8814</text>\n",
       "<polyline fill=\"none\" stroke=\"black\" points=\"955.5,-137.5 955.5,-173.5 \"/>\n",
       "<text text-anchor=\"middle\" x=\"1007.5\" y=\"-151.8\" font-family=\"Times,serif\" font-size=\"14.00\">grad 0.5000</text>\n",
       "</g>\n",
       "<!-- 139734148398288&#45;&gt;139733671376928+ -->\n",
       "<g id=\"edge11\" class=\"edge\">\n",
       "<title>139734148398288&#45;&gt;139733671376928+</title>\n",
       "<path fill=\"none\" stroke=\"black\" d=\"M1059.75,-141.5C1088.57,-138 1117.4,-134.5 1139.01,-131.87\"/>\n",
       "<polygon fill=\"black\" stroke=\"black\" points=\"1139.5,-135.34 1149.01,-130.66 1138.66,-128.39 1139.5,-135.34\"/>\n",
       "</g>\n",
       "<!-- 139733671569632 -->\n",
       "<g id=\"node12\" class=\"node\">\n",
       "<title>139733671569632</title>\n",
       "<polygon fill=\"none\" stroke=\"black\" points=\"2.5,-110.5 2.5,-146.5 246.5,-146.5 246.5,-110.5 2.5,-110.5\"/>\n",
       "<text text-anchor=\"middle\" x=\"21.5\" y=\"-124.8\" font-family=\"Times,serif\" font-size=\"14.00\">w2</text>\n",
       "<polyline fill=\"none\" stroke=\"black\" points=\"40.5,-110.5 40.5,-146.5 \"/>\n",
       "<text text-anchor=\"middle\" x=\"91.5\" y=\"-124.8\" font-family=\"Times,serif\" font-size=\"14.00\">data 1.0000</text>\n",
       "<polyline fill=\"none\" stroke=\"black\" points=\"142.5,-110.5 142.5,-146.5 \"/>\n",
       "<text text-anchor=\"middle\" x=\"194.5\" y=\"-124.8\" font-family=\"Times,serif\" font-size=\"14.00\">grad 0.0000</text>\n",
       "</g>\n",
       "<!-- 139733671569632&#45;&gt;139733672053344* -->\n",
       "<g id=\"edge14\" class=\"edge\">\n",
       "<title>139733671569632&#45;&gt;139733672053344*</title>\n",
       "<path fill=\"none\" stroke=\"black\" d=\"M246.64,-128.5C256.7,-128.5 266.26,-128.5 274.79,-128.5\"/>\n",
       "<polygon fill=\"black\" stroke=\"black\" points=\"275,-132 285,-128.5 275,-125 275,-132\"/>\n",
       "</g>\n",
       "<!-- 139733671378128 -->\n",
       "<g id=\"node13\" class=\"node\">\n",
       "<title>139733671378128</title>\n",
       "<polygon fill=\"none\" stroke=\"black\" points=\"1241.5,-54.5 1241.5,-90.5 1468.5,-90.5 1468.5,-54.5 1241.5,-54.5\"/>\n",
       "<text text-anchor=\"middle\" x=\"1252\" y=\"-68.8\" font-family=\"Times,serif\" font-size=\"14.00\"> </text>\n",
       "<polyline fill=\"none\" stroke=\"black\" points=\"1262.5,-54.5 1262.5,-90.5 \"/>\n",
       "<text text-anchor=\"middle\" x=\"1313.5\" y=\"-68.8\" font-family=\"Times,serif\" font-size=\"14.00\">data 2.0000</text>\n",
       "<polyline fill=\"none\" stroke=\"black\" points=\"1364.5,-54.5 1364.5,-90.5 \"/>\n",
       "<text text-anchor=\"middle\" x=\"1416.5\" y=\"-68.8\" font-family=\"Times,serif\" font-size=\"14.00\">grad 0.2203</text>\n",
       "</g>\n",
       "<!-- 139733671378128&#45;&gt;139733671377408* -->\n",
       "<g id=\"edge15\" class=\"edge\">\n",
       "<title>139733671378128&#45;&gt;139733671377408*</title>\n",
       "<path fill=\"none\" stroke=\"black\" d=\"M1468.6,-89.68C1478.87,-91.24 1488.68,-92.74 1497.4,-94.07\"/>\n",
       "<polygon fill=\"black\" stroke=\"black\" points=\"1497.05,-97.56 1507.47,-95.61 1498.11,-90.64 1497.05,-97.56\"/>\n",
       "</g>\n",
       "<!-- 139733668684032 -->\n",
       "<g id=\"node14\" class=\"node\">\n",
       "<title>139733668684032</title>\n",
       "<polygon fill=\"none\" stroke=\"black\" points=\"2308.6,-53.5 2308.6,-89.5 2539.6,-89.5 2539.6,-53.5 2308.6,-53.5\"/>\n",
       "<text text-anchor=\"middle\" x=\"2319.1\" y=\"-67.8\" font-family=\"Times,serif\" font-size=\"14.00\"> </text>\n",
       "<polyline fill=\"none\" stroke=\"black\" points=\"2329.6,-53.5 2329.6,-89.5 \"/>\n",
       "<text text-anchor=\"middle\" x=\"2380.6\" y=\"-67.8\" font-family=\"Times,serif\" font-size=\"14.00\">data 6.8284</text>\n",
       "<polyline fill=\"none\" stroke=\"black\" points=\"2431.6,-53.5 2431.6,-89.5 \"/>\n",
       "<text text-anchor=\"middle\" x=\"2485.6\" y=\"-67.8\" font-family=\"Times,serif\" font-size=\"14.00\">grad &#45;0.1036</text>\n",
       "</g>\n",
       "<!-- 139733668684032&#45;&gt;139733667325456**&#45;1 -->\n",
       "<g id=\"edge13\" class=\"edge\">\n",
       "<title>139733668684032&#45;&gt;139733667325456**&#45;1</title>\n",
       "<path fill=\"none\" stroke=\"black\" d=\"M2539.69,-71.5C2579.38,-71.5 2621.17,-71.5 2650.25,-71.5\"/>\n",
       "<polygon fill=\"black\" stroke=\"black\" points=\"2650.37,-75 2660.37,-71.5 2650.37,-68 2650.37,-75\"/>\n",
       "</g>\n",
       "<!-- 139733668684032+ -->\n",
       "<g id=\"node15\" class=\"node\">\n",
       "<title>139733668684032+</title>\n",
       "<ellipse fill=\"none\" stroke=\"black\" cx=\"2245.6\" cy=\"-71.5\" rx=\"27\" ry=\"18\"/>\n",
       "<text text-anchor=\"middle\" x=\"2245.6\" y=\"-67.8\" font-family=\"Times,serif\" font-size=\"14.00\">+</text>\n",
       "</g>\n",
       "<!-- 139733668684032+&#45;&gt;139733668684032 -->\n",
       "<g id=\"edge5\" class=\"edge\">\n",
       "<title>139733668684032+&#45;&gt;139733668684032</title>\n",
       "<path fill=\"none\" stroke=\"black\" d=\"M2272.64,-71.5C2280.18,-71.5 2288.96,-71.5 2298.41,-71.5\"/>\n",
       "<polygon fill=\"black\" stroke=\"black\" points=\"2298.49,-75 2308.49,-71.5 2298.49,-68 2298.49,-75\"/>\n",
       "</g>\n",
       "<!-- 139733671378704 -->\n",
       "<g id=\"node16\" class=\"node\">\n",
       "<title>139733671378704</title>\n",
       "<polygon fill=\"none\" stroke=\"black\" points=\"1953.1,-81.5 1953.1,-117.5 2180.1,-117.5 2180.1,-81.5 1953.1,-81.5\"/>\n",
       "<text text-anchor=\"middle\" x=\"1963.6\" y=\"-95.8\" font-family=\"Times,serif\" font-size=\"14.00\"> </text>\n",
       "<polyline fill=\"none\" stroke=\"black\" points=\"1974.1,-81.5 1974.1,-117.5 \"/>\n",
       "<text text-anchor=\"middle\" x=\"2025.1\" y=\"-95.8\" font-family=\"Times,serif\" font-size=\"14.00\">data 5.8284</text>\n",
       "<polyline fill=\"none\" stroke=\"black\" points=\"2076.1,-81.5 2076.1,-117.5 \"/>\n",
       "<text text-anchor=\"middle\" x=\"2128.1\" y=\"-95.8\" font-family=\"Times,serif\" font-size=\"14.00\">grad 0.0429</text>\n",
       "</g>\n",
       "<!-- 139733671378704&#45;&gt;139733668684032+ -->\n",
       "<g id=\"edge24\" class=\"edge\">\n",
       "<title>139733671378704&#45;&gt;139733668684032+</title>\n",
       "<path fill=\"none\" stroke=\"black\" d=\"M2180.19,-81.69C2190.47,-80.06 2200.28,-78.51 2209,-77.13\"/>\n",
       "<polygon fill=\"black\" stroke=\"black\" points=\"2209.73,-80.56 2219.06,-75.54 2208.64,-73.64 2209.73,-80.56\"/>\n",
       "</g>\n",
       "<!-- 139734148865760+ -->\n",
       "<g id=\"node24\" class=\"node\">\n",
       "<title>139734148865760+</title>\n",
       "<ellipse fill=\"none\" stroke=\"black\" cx=\"2245.6\" cy=\"-126.5\" rx=\"27\" ry=\"18\"/>\n",
       "<text text-anchor=\"middle\" x=\"2245.6\" y=\"-122.8\" font-family=\"Times,serif\" font-size=\"14.00\">+</text>\n",
       "</g>\n",
       "<!-- 139733671378704&#45;&gt;139734148865760+ -->\n",
       "<g id=\"edge23\" class=\"edge\">\n",
       "<title>139733671378704&#45;&gt;139734148865760+</title>\n",
       "<path fill=\"none\" stroke=\"black\" d=\"M2180.19,-116.68C2190.47,-118.24 2200.28,-119.74 2209,-121.07\"/>\n",
       "<polygon fill=\"black\" stroke=\"black\" points=\"2208.65,-124.56 2219.06,-122.61 2209.7,-117.64 2208.65,-124.56\"/>\n",
       "</g>\n",
       "<!-- 139733671378704exp&#45;&gt;139733671378704 -->\n",
       "<g id=\"edge6\" class=\"edge\">\n",
       "<title>139733671378704exp&#45;&gt;139733671378704</title>\n",
       "<path fill=\"none\" stroke=\"black\" d=\"M1914.84,-99.5C1922.97,-99.5 1932.49,-99.5 1942.74,-99.5\"/>\n",
       "<polygon fill=\"black\" stroke=\"black\" points=\"1942.76,-103 1952.76,-99.5 1942.76,-96 1942.76,-103\"/>\n",
       "</g>\n",
       "<!-- 139734148397328 -->\n",
       "<g id=\"node18\" class=\"node\">\n",
       "<title>139734148397328</title>\n",
       "<polygon fill=\"none\" stroke=\"black\" points=\"375,-55.5 375,-91.5 648,-91.5 648,-55.5 375,-55.5\"/>\n",
       "<text text-anchor=\"middle\" x=\"406\" y=\"-69.8\" font-family=\"Times,serif\" font-size=\"14.00\">x1*w1</text>\n",
       "<polyline fill=\"none\" stroke=\"black\" points=\"437,-55.5 437,-91.5 \"/>\n",
       "<text text-anchor=\"middle\" x=\"490.5\" y=\"-69.8\" font-family=\"Times,serif\" font-size=\"14.00\">data &#45;6.0000</text>\n",
       "<polyline fill=\"none\" stroke=\"black\" points=\"544,-55.5 544,-91.5 \"/>\n",
       "<text text-anchor=\"middle\" x=\"596\" y=\"-69.8\" font-family=\"Times,serif\" font-size=\"14.00\">grad 0.5000</text>\n",
       "</g>\n",
       "<!-- 139734148397328&#45;&gt;139733672052096+ -->\n",
       "<g id=\"edge16\" class=\"edge\">\n",
       "<title>139734148397328&#45;&gt;139733672052096+</title>\n",
       "<path fill=\"none\" stroke=\"black\" d=\"M644.24,-91.51C655.12,-93 665.4,-94.4 674.45,-95.64\"/>\n",
       "<polygon fill=\"black\" stroke=\"black\" points=\"674.11,-99.13 684.49,-97.01 675.05,-92.19 674.11,-99.13\"/>\n",
       "</g>\n",
       "<!-- 139734148397328*&#45;&gt;139734148397328 -->\n",
       "<g id=\"edge7\" class=\"edge\">\n",
       "<title>139734148397328*&#45;&gt;139734148397328</title>\n",
       "<path fill=\"none\" stroke=\"black\" d=\"M339.23,-73.5C346.7,-73.5 355.41,-73.5 364.87,-73.5\"/>\n",
       "<polygon fill=\"black\" stroke=\"black\" points=\"364.98,-77 374.98,-73.5 364.98,-70 364.98,-77\"/>\n",
       "</g>\n",
       "<!-- 139733668684080 -->\n",
       "<g id=\"node20\" class=\"node\">\n",
       "<title>139733668684080</title>\n",
       "<polygon fill=\"none\" stroke=\"black\" points=\"1951.1,-26.5 1951.1,-62.5 2182.1,-62.5 2182.1,-26.5 1951.1,-26.5\"/>\n",
       "<text text-anchor=\"middle\" x=\"1961.6\" y=\"-40.8\" font-family=\"Times,serif\" font-size=\"14.00\"> </text>\n",
       "<polyline fill=\"none\" stroke=\"black\" points=\"1972.1,-26.5 1972.1,-62.5 \"/>\n",
       "<text text-anchor=\"middle\" x=\"2023.1\" y=\"-40.8\" font-family=\"Times,serif\" font-size=\"14.00\">data 1.0000</text>\n",
       "<polyline fill=\"none\" stroke=\"black\" points=\"2074.1,-26.5 2074.1,-62.5 \"/>\n",
       "<text text-anchor=\"middle\" x=\"2128.1\" y=\"-40.8\" font-family=\"Times,serif\" font-size=\"14.00\">grad &#45;0.1036</text>\n",
       "</g>\n",
       "<!-- 139733668684080&#45;&gt;139733668684032+ -->\n",
       "<g id=\"edge25\" class=\"edge\">\n",
       "<title>139733668684080&#45;&gt;139733668684032+</title>\n",
       "<path fill=\"none\" stroke=\"black\" d=\"M2182.19,-61.98C2191.71,-63.43 2200.79,-64.82 2208.93,-66.06\"/>\n",
       "<polygon fill=\"black\" stroke=\"black\" points=\"2208.63,-69.55 2219.04,-67.6 2209.68,-62.63 2208.63,-69.55\"/>\n",
       "</g>\n",
       "<!-- 139733667324736 -->\n",
       "<g id=\"node21\" class=\"node\">\n",
       "<title>139733667324736</title>\n",
       "<polygon fill=\"none\" stroke=\"black\" points=\"3191.6,-80.5 3191.6,-116.5 3422.6,-116.5 3422.6,-80.5 3191.6,-80.5\"/>\n",
       "<text text-anchor=\"middle\" x=\"3204.1\" y=\"-94.8\" font-family=\"Times,serif\" font-size=\"14.00\">o</text>\n",
       "<polyline fill=\"none\" stroke=\"black\" points=\"3216.6,-80.5 3216.6,-116.5 \"/>\n",
       "<text text-anchor=\"middle\" x=\"3267.6\" y=\"-94.8\" font-family=\"Times,serif\" font-size=\"14.00\">data 0.7071</text>\n",
       "<polyline fill=\"none\" stroke=\"black\" points=\"3318.6,-80.5 3318.6,-116.5 \"/>\n",
       "<text text-anchor=\"middle\" x=\"3370.6\" y=\"-94.8\" font-family=\"Times,serif\" font-size=\"14.00\">grad 1.0000</text>\n",
       "</g>\n",
       "<!-- 139733667324736*&#45;&gt;139733667324736 -->\n",
       "<g id=\"edge8\" class=\"edge\">\n",
       "<title>139733667324736*&#45;&gt;139733667324736</title>\n",
       "<path fill=\"none\" stroke=\"black\" d=\"M3155.64,-98.5C3163.18,-98.5 3171.96,-98.5 3181.41,-98.5\"/>\n",
       "<polygon fill=\"black\" stroke=\"black\" points=\"3181.49,-102 3191.49,-98.5 3181.49,-95 3181.49,-102\"/>\n",
       "</g>\n",
       "<!-- 139734148865760 -->\n",
       "<g id=\"node23\" class=\"node\">\n",
       "<title>139734148865760</title>\n",
       "<polygon fill=\"none\" stroke=\"black\" points=\"2575.6,-108.5 2575.6,-144.5 2802.6,-144.5 2802.6,-108.5 2575.6,-108.5\"/>\n",
       "<text text-anchor=\"middle\" x=\"2586.1\" y=\"-122.8\" font-family=\"Times,serif\" font-size=\"14.00\"> </text>\n",
       "<polyline fill=\"none\" stroke=\"black\" points=\"2596.6,-108.5 2596.6,-144.5 \"/>\n",
       "<text text-anchor=\"middle\" x=\"2647.6\" y=\"-122.8\" font-family=\"Times,serif\" font-size=\"14.00\">data 4.8284</text>\n",
       "<polyline fill=\"none\" stroke=\"black\" points=\"2698.6,-108.5 2698.6,-144.5 \"/>\n",
       "<text text-anchor=\"middle\" x=\"2750.6\" y=\"-122.8\" font-family=\"Times,serif\" font-size=\"14.00\">grad 0.1464</text>\n",
       "</g>\n",
       "<!-- 139734148865760&#45;&gt;139733667324736* -->\n",
       "<g id=\"edge22\" class=\"edge\">\n",
       "<title>139734148865760&#45;&gt;139733667324736*</title>\n",
       "<path fill=\"none\" stroke=\"black\" d=\"M2802.65,-119.32C2877.24,-114.56 2977.26,-108.17 3065.6,-102.5 3074.01,-101.96 3083.07,-101.38 3091.6,-100.83\"/>\n",
       "<polygon fill=\"black\" stroke=\"black\" points=\"3091.9,-104.31 3101.65,-100.18 3091.45,-97.33 3091.9,-104.31\"/>\n",
       "</g>\n",
       "<!-- 139734148865760+&#45;&gt;139734148865760 -->\n",
       "<g id=\"edge9\" class=\"edge\">\n",
       "<title>139734148865760+&#45;&gt;139734148865760</title>\n",
       "<path fill=\"none\" stroke=\"black\" d=\"M2272.89,-126.5C2329.16,-126.5 2464.31,-126.5 2565.23,-126.5\"/>\n",
       "<polygon fill=\"black\" stroke=\"black\" points=\"2565.5,-130 2575.5,-126.5 2565.5,-123 2565.5,-130\"/>\n",
       "</g>\n",
       "<!-- 139734148865808 -->\n",
       "<g id=\"node25\" class=\"node\">\n",
       "<title>139734148865808</title>\n",
       "<polygon fill=\"none\" stroke=\"black\" points=\"1950.6,-136.5 1950.6,-172.5 2182.6,-172.5 2182.6,-136.5 1950.6,-136.5\"/>\n",
       "<text text-anchor=\"middle\" x=\"1961.1\" y=\"-150.8\" font-family=\"Times,serif\" font-size=\"14.00\"> </text>\n",
       "<polyline fill=\"none\" stroke=\"black\" points=\"1971.6,-136.5 1971.6,-172.5 \"/>\n",
       "<text text-anchor=\"middle\" x=\"2025.1\" y=\"-150.8\" font-family=\"Times,serif\" font-size=\"14.00\">data &#45;1.0000</text>\n",
       "<polyline fill=\"none\" stroke=\"black\" points=\"2078.6,-136.5 2078.6,-172.5 \"/>\n",
       "<text text-anchor=\"middle\" x=\"2130.6\" y=\"-150.8\" font-family=\"Times,serif\" font-size=\"14.00\">grad 0.1464</text>\n",
       "</g>\n",
       "<!-- 139734148865808&#45;&gt;139734148865760+ -->\n",
       "<g id=\"edge26\" class=\"edge\">\n",
       "<title>139734148865808&#45;&gt;139734148865760+</title>\n",
       "<path fill=\"none\" stroke=\"black\" d=\"M2181.69,-136.45C2191.48,-134.9 2200.8,-133.43 2209.14,-132.11\"/>\n",
       "<polygon fill=\"black\" stroke=\"black\" points=\"2209.79,-135.55 2219.12,-130.53 2208.69,-128.64 2209.79,-135.55\"/>\n",
       "</g>\n",
       "<!-- 139733672052096 -->\n",
       "<g id=\"node26\" class=\"node\">\n",
       "<title>139733672052096</title>\n",
       "<polygon fill=\"none\" stroke=\"black\" points=\"774,-82.5 774,-118.5 1113,-118.5 1113,-82.5 774,-82.5\"/>\n",
       "<text text-anchor=\"middle\" x=\"838\" y=\"-96.8\" font-family=\"Times,serif\" font-size=\"14.00\">x1*w1 + x2*w2</text>\n",
       "<polyline fill=\"none\" stroke=\"black\" points=\"902,-82.5 902,-118.5 \"/>\n",
       "<text text-anchor=\"middle\" x=\"955.5\" y=\"-96.8\" font-family=\"Times,serif\" font-size=\"14.00\">data &#45;6.0000</text>\n",
       "<polyline fill=\"none\" stroke=\"black\" points=\"1009,-82.5 1009,-118.5 \"/>\n",
       "<text text-anchor=\"middle\" x=\"1061\" y=\"-96.8\" font-family=\"Times,serif\" font-size=\"14.00\">grad 0.5000</text>\n",
       "</g>\n",
       "<!-- 139733672052096&#45;&gt;139733671376928+ -->\n",
       "<g id=\"edge27\" class=\"edge\">\n",
       "<title>139733672052096&#45;&gt;139733671376928+</title>\n",
       "<path fill=\"none\" stroke=\"black\" d=\"M1098.25,-118.51C1113.17,-120.26 1127.12,-121.89 1138.92,-123.27\"/>\n",
       "<polygon fill=\"black\" stroke=\"black\" points=\"1138.79,-126.78 1149.13,-124.47 1139.6,-119.83 1138.79,-126.78\"/>\n",
       "</g>\n",
       "<!-- 139733672052096+&#45;&gt;139733672052096 -->\n",
       "<g id=\"edge10\" class=\"edge\">\n",
       "<title>139733672052096+&#45;&gt;139733672052096</title>\n",
       "<path fill=\"none\" stroke=\"black\" d=\"M738.44,-100.5C745.81,-100.5 754.42,-100.5 763.84,-100.5\"/>\n",
       "<polygon fill=\"black\" stroke=\"black\" points=\"763.94,-104 773.94,-100.5 763.94,-97 763.94,-104\"/>\n",
       "</g>\n",
       "<!-- 139734148398000 -->\n",
       "<g id=\"node28\" class=\"node\">\n",
       "<title>139734148398000</title>\n",
       "<polygon fill=\"none\" stroke=\"black\" points=\"2.5,-0.5 2.5,-36.5 246.5,-36.5 246.5,-0.5 2.5,-0.5\"/>\n",
       "<text text-anchor=\"middle\" x=\"19.5\" y=\"-14.8\" font-family=\"Times,serif\" font-size=\"14.00\">x1</text>\n",
       "<polyline fill=\"none\" stroke=\"black\" points=\"36.5,-0.5 36.5,-36.5 \"/>\n",
       "<text text-anchor=\"middle\" x=\"87.5\" y=\"-14.8\" font-family=\"Times,serif\" font-size=\"14.00\">data 2.0000</text>\n",
       "<polyline fill=\"none\" stroke=\"black\" points=\"138.5,-0.5 138.5,-36.5 \"/>\n",
       "<text text-anchor=\"middle\" x=\"192.5\" y=\"-14.8\" font-family=\"Times,serif\" font-size=\"14.00\">grad &#45;1.5000</text>\n",
       "</g>\n",
       "<!-- 139734148398000&#45;&gt;139734148397328* -->\n",
       "<g id=\"edge19\" class=\"edge\">\n",
       "<title>139734148398000&#45;&gt;139734148397328*</title>\n",
       "<path fill=\"none\" stroke=\"black\" d=\"M218.13,-36.54C228.63,-39.23 239.1,-42.22 249,-45.5 259.71,-49.04 271.05,-53.84 281.07,-58.46\"/>\n",
       "<polygon fill=\"black\" stroke=\"black\" points=\"279.67,-61.67 290.2,-62.79 282.67,-55.34 279.67,-61.67\"/>\n",
       "</g>\n",
       "</g>\n",
       "</svg>\n"
      ],
      "text/plain": [
       "<graphviz.graphs.Digraph at 0x7f16644731f0>"
      ]
     },
     "execution_count": 175,
     "metadata": {},
     "output_type": "execute_result"
    }
   ],
   "source": [
    "draw_dot(o)"
   ]
  },
  {
   "cell_type": "code",
   "execution_count": null,
   "id": "791b97cd-1321-41a7-ba04-036dd7b1aa19",
   "metadata": {},
   "outputs": [],
   "source": []
  }
 ],
 "metadata": {
  "kernelspec": {
   "display_name": "Python 3 (ipykernel)",
   "language": "python",
   "name": "python3"
  },
  "language_info": {
   "codemirror_mode": {
    "name": "ipython",
    "version": 3
   },
   "file_extension": ".py",
   "mimetype": "text/x-python",
   "name": "python",
   "nbconvert_exporter": "python",
   "pygments_lexer": "ipython3",
   "version": "3.9.16"
  }
 },
 "nbformat": 4,
 "nbformat_minor": 5
}
